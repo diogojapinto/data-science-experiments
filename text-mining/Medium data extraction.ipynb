{
 "cells": [
  {
   "cell_type": "markdown",
   "metadata": {},
   "source": [
    "# Implementation"
   ]
  },
  {
   "cell_type": "code",
   "execution_count": 5,
   "metadata": {
    "collapsed": true
   },
   "outputs": [],
   "source": [
    "import requests\n",
    "import json\n",
    "import urllib"
   ]
  },
  {
   "cell_type": "code",
   "execution_count": 25,
   "metadata": {
    "collapsed": true
   },
   "outputs": [],
   "source": [
    "def get_obj(response):\n",
    "    \"\"\" Extracts the response object from the raw response string \"\"\"\n",
    "    content = response.text[response.text.index('{'):]\n",
    "    obj = json.loads(content)\n",
    "    return obj"
   ]
  },
  {
   "cell_type": "code",
   "execution_count": 62,
   "metadata": {
    "collapsed": true
   },
   "outputs": [],
   "source": [
    "def retrieve_article_content(domain, slug):\n",
    "    url = 'https://' + domain + '/' + slug + '?format=json'\n",
    "    response = requests.get(url=url)\n",
    "    obj = get_obj(response)\n",
    "    text = []\n",
    "    if not 'value' in obj['payload']:\n",
    "        return ''\n",
    "    paragraphs_list = obj['payload']['value']['content']['bodyModel']['paragraphs']\n",
    "    \n",
    "    for paragraph in paragraphs_list:\n",
    "        if 'text' in paragraph:\n",
    "            text.append(paragraph['text'])\n",
    "    \n",
    "    return text"
   ]
  },
  {
   "cell_type": "code",
   "execution_count": 58,
   "metadata": {
    "collapsed": true
   },
   "outputs": [],
   "source": [
    "def perform_first_query(query):\n",
    "    # Perform first request for the first 10 items\n",
    "    url = 'https://medium.com/search?q='+ query +'&format=json'\n",
    "    response = requests.get(url=url)\n",
    "    obj = get_obj(response)\n",
    "    text = []\n",
    "    posts_list = obj['payload']['value']['posts']\n",
    "    \n",
    "    for post in posts_list:\n",
    "        if 'homeCollection' in post and 'domain' in post['homeCollection']:\n",
    "            domain = post['homeCollection']['domain']\n",
    "        else:\n",
    "            domain = 'medium.com/@'+ post['creator']['username']\n",
    "        slug = post['uniqueSlug']\n",
    "        text.append(retrieve_article_content(domain, slug))\n",
    "        \n",
    "    next_path = obj['payload']['paging']['path']\n",
    "    next_params = obj['payload']['paging']['next']\n",
    "    next_cookies = response.cookies\n",
    "    return text, next_path, next_params, next_cookies"
   ]
  },
  {
   "cell_type": "code",
   "execution_count": 59,
   "metadata": {
    "collapsed": true
   },
   "outputs": [],
   "source": [
    "def perform_followup_query(path, params, cookies):\n",
    "    # Perform first request for the first 10 items\n",
    "    url = 'https://medium.com' + path + '&format=json'\n",
    "    response = requests.get(url=url, params=params, cookies=cookies)\n",
    "    obj = get_obj(response)\n",
    "    text = []\n",
    "    posts_list = obj['payload']['value']\n",
    "    \n",
    "    for post in posts_list:\n",
    "        if 'homeCollection' in post and 'domain' in post['homeCollection']:\n",
    "            domain = post['homeCollection']['domain']\n",
    "        else:\n",
    "            domain = 'medium.com/@'+ post['creator']['username']\n",
    "        slug = post['uniqueSlug']\n",
    "        text.append(retrieve_article_content(domain, slug))\n",
    "    \n",
    "    next_path = obj['payload']['paging']['path']\n",
    "    next_params = obj['payload']['paging']['next']\n",
    "    next_cookies = response.cookies\n",
    "    return text, next_path, next_params, next_cookies"
   ]
  },
  {
   "cell_type": "code",
   "execution_count": 60,
   "metadata": {
    "collapsed": true
   },
   "outputs": [],
   "source": [
    "def query(query, n_pages=1):\n",
    "    \"\"\"\n",
    "    Function to retrieve an array of text articles from Medium, given the query text and \n",
    "    number of pages (10 articles per page)\n",
    "    \"\"\"\n",
    "    \n",
    "    # Return an empty array if no page is requested\n",
    "    if n_pages < 1:\n",
    "        return []\n",
    "    \n",
    "    \n",
    "    query = urllib.parse.quote(query)\n",
    "    \n",
    "    # Perform first request for the first 10 items\n",
    "    texts, next_path, next_params, next_cookies = perform_first_query(query)\n",
    "    \n",
    "    for _ in range(1, n_pages):\n",
    "        #return perform_followup_query(next_path, next_params)\n",
    "        new_texts, next_path, next_params, next_cookies = perform_followup_query(next_path, next_params, next_cookies)\n",
    "        texts.extend(new_texts)\n",
    "        \n",
    "    return texts"
   ]
  },
  {
   "cell_type": "code",
   "execution_count": 92,
   "metadata": {
    "collapsed": false
   },
   "outputs": [],
   "source": [
    "res = query('insurance', 90)"
   ]
  },
  {
   "cell_type": "code",
   "execution_count": 93,
   "metadata": {
    "collapsed": false
   },
   "outputs": [],
   "source": [
    "with open('data2.txt', 'wb') as f:\n",
    "    for article in res:\n",
    "        for paragraph in article:\n",
    "            f.write(paragraph.encode('utf8'))\n",
    "            f.write('\\n'.encode('utf8'))\n",
    "        f.write('\\n'.encode('utf8'))"
   ]
  },
  {
   "cell_type": "code",
   "execution_count": 94,
   "metadata": {
    "collapsed": true
   },
   "outputs": [],
   "source": [
    "import codecs"
   ]
  },
  {
   "cell_type": "code",
   "execution_count": 95,
   "metadata": {
    "collapsed": false
   },
   "outputs": [],
   "source": [
    "with codecs.open('data2.txt', encoding='utf-8') as f:\n",
    "    text = f.read()"
   ]
  },
  {
   "cell_type": "code",
   "execution_count": 99,
   "metadata": {
    "collapsed": false
   },
   "outputs": [
    {
     "data": {
      "text/plain": [
       "3138662"
      ]
     },
     "execution_count": 99,
     "metadata": {},
     "output_type": "execute_result"
    }
   ],
   "source": [
    "len(text)"
   ]
  },
  {
   "cell_type": "code",
   "execution_count": 97,
   "metadata": {
    "collapsed": false
   },
   "outputs": [
    {
     "data": {
      "text/plain": [
       "25.109296"
      ]
     },
     "execution_count": 97,
     "metadata": {},
     "output_type": "execute_result"
    }
   ],
   "source": [
    "len(text)*8 / 1000000"
   ]
  },
  {
   "cell_type": "code",
   "execution_count": null,
   "metadata": {
    "collapsed": true
   },
   "outputs": [],
   "source": []
  }
 ],
 "metadata": {
  "anaconda-cloud": {},
  "kernelspec": {
   "display_name": "Python [default]",
   "language": "python",
   "name": "python3"
  },
  "language_info": {
   "codemirror_mode": {
    "name": "ipython",
    "version": 3
   },
   "file_extension": ".py",
   "mimetype": "text/x-python",
   "name": "python",
   "nbconvert_exporter": "python",
   "pygments_lexer": "ipython3",
   "version": "3.5.2"
  }
 },
 "nbformat": 4,
 "nbformat_minor": 1
}
