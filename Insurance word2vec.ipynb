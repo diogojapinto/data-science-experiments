{
 "cells": [
  {
   "cell_type": "markdown",
   "metadata": {},
   "source": [
    "# Insurance word2vec\n",
    "\n",
    "Inspired on [Thrones2Vec](https://github.com/YuriyGuts/thrones2vec)"
   ]
  },
  {
   "cell_type": "code",
   "execution_count": 2,
   "metadata": {
    "collapsed": true
   },
   "outputs": [],
   "source": [
    "import codecs\n",
    "import glob\n",
    "import logging\n",
    "import multiprocessing\n",
    "import os\n",
    "import pprint\n",
    "import re"
   ]
  },
  {
   "cell_type": "code",
   "execution_count": 3,
   "metadata": {
    "collapsed": false
   },
   "outputs": [
    {
     "name": "stderr",
     "output_type": "stream",
     "text": [
      "C:\\Users\\diogopinto\\AppData\\Local\\Continuum\\Anaconda3\\lib\\site-packages\\gensim\\utils.py:855: UserWarning: detected Windows; aliasing chunkize to chunkize_serial\n",
      "  warnings.warn(\"detected Windows; aliasing chunkize to chunkize_serial\")\n"
     ]
    }
   ],
   "source": [
    "import nltk\n",
    "import gensim.models.word2vec as w2v\n",
    "import sklearn.manifold\n",
    "import numpy as np\n",
    "import matplotlib.pyplot as plt\n",
    "import pandas as pd\n",
    "import seaborn as sns\n",
    "%matplotlib inline"
   ]
  },
  {
   "cell_type": "markdown",
   "metadata": {},
   "source": [
    "#### Set-up logging"
   ]
  },
  {
   "cell_type": "code",
   "execution_count": 4,
   "metadata": {
    "collapsed": true
   },
   "outputs": [],
   "source": [
    "logging.basicConfig(format='%(asctime)s : %(levelname)s : %(message)s', level=logging.INFO)"
   ]
  },
  {
   "cell_type": "markdown",
   "metadata": {},
   "source": [
    "#### Download NLTK tokenizer models (only the first time)"
   ]
  },
  {
   "cell_type": "code",
   "execution_count": 5,
   "metadata": {
    "collapsed": false
   },
   "outputs": [
    {
     "name": "stdout",
     "output_type": "stream",
     "text": [
      "[nltk_data] Downloading package punkt to\n",
      "[nltk_data]     C:\\Users\\diogopinto\\AppData\\Roaming\\nltk_data...\n",
      "[nltk_data]   Package punkt is already up-to-date!\n",
      "[nltk_data] Downloading package stopwords to\n",
      "[nltk_data]     C:\\Users\\diogopinto\\AppData\\Roaming\\nltk_data...\n",
      "[nltk_data]   Package stopwords is already up-to-date!\n"
     ]
    },
    {
     "data": {
      "text/plain": [
       "True"
      ]
     },
     "execution_count": 5,
     "metadata": {},
     "output_type": "execute_result"
    }
   ],
   "source": [
    "nltk.download('punkt')\n",
    "nltk.download('stopwords')"
   ]
  },
  {
   "cell_type": "markdown",
   "metadata": {},
   "source": [
    "## Prepare corpus"
   ]
  },
  {
   "cell_type": "markdown",
   "metadata": {},
   "source": [
    "#### Load data"
   ]
  },
  {
   "cell_type": "code",
   "execution_count": 6,
   "metadata": {
    "collapsed": false
   },
   "outputs": [],
   "source": [
    "with codecs.open('text-mining/data2.txt', 'r', 'utf-8') as f:\n",
    "    articles = f.read()"
   ]
  },
  {
   "cell_type": "code",
   "execution_count": 7,
   "metadata": {
    "collapsed": false
   },
   "outputs": [
    {
     "data": {
      "text/plain": [
       "'Health Insurance: How Does It Work?\\nFour Questions to Ask About Health Care Reform\\nWe rarely have to ask how car insurance or home insurance work. What is it that makes health insurance so much more complicated — with individual mandates, single or multiple payers, and so on? Since Congress is (once again) talking about changing how health care works in America, it may be a good time to explain what makes it so strange. This thing we sometimes call “health insurance” is actually a fusion of thre'"
      ]
     },
     "execution_count": 7,
     "metadata": {},
     "output_type": "execute_result"
    }
   ],
   "source": [
    "articles[:500]"
   ]
  },
  {
   "cell_type": "markdown",
   "metadata": {},
   "source": [
    "#### Split the corpus into sentences"
   ]
  },
  {
   "cell_type": "code",
   "execution_count": 8,
   "metadata": {
    "collapsed": true
   },
   "outputs": [],
   "source": [
    "tokenizer = nltk.data.load('tokenizers/punkt/english.pickle')"
   ]
  },
  {
   "cell_type": "code",
   "execution_count": 9,
   "metadata": {
    "collapsed": true
   },
   "outputs": [],
   "source": [
    "raw_sentences = tokenizer.tokenize(articles)"
   ]
  },
  {
   "cell_type": "code",
   "execution_count": 10,
   "metadata": {
    "collapsed": false
   },
   "outputs": [
    {
     "data": {
      "text/plain": [
       "['Health Insurance: How Does It Work?',\n",
       " 'Four Questions to Ask About Health Care Reform\\nWe rarely have to ask how car insurance or home insurance work.',\n",
       " 'What is it that makes health insurance so much more complicated — with individual mandates, single or multiple payers, and so on?',\n",
       " 'Since Congress is (once again) talking about changing how health care works in America, it may be a good time to explain what makes it so strange.',\n",
       " 'This thing we sometimes call “health insurance” is actually a fusion of three different things, only one and a half of which are “insurance” at all.',\n",
       " 'I’m going to walk through the basics you need to know, and end up with a set of four questions you can ask about any health care proposal that will let you understand what people are really talking about.',\n",
       " '(I’m not going to tell you what I think the right answers are, though.',\n",
       " 'This article is to help you ask the right questions — and I’m interested in your answers.)',\n",
       " 'Not as bad as it looks: this is a mass casualty drill at the Naval Medical Center, San Diego.',\n",
       " 'Let’s start by talking about what insurance actually is.']"
      ]
     },
     "execution_count": 10,
     "metadata": {},
     "output_type": "execute_result"
    }
   ],
   "source": [
    "raw_sentences[:10]"
   ]
  },
  {
   "cell_type": "code",
   "execution_count": 11,
   "metadata": {
    "collapsed": true
   },
   "outputs": [],
   "source": [
    "def sentence_to_wordlist(raw):\n",
    "    clean = re.sub(r'[^a-zA-Z]', \" \", raw)\n",
    "    words = clean.split()\n",
    "    return words"
   ]
  },
  {
   "cell_type": "code",
   "execution_count": 12,
   "metadata": {
    "collapsed": true
   },
   "outputs": [],
   "source": [
    "sentences = [sentence_to_wordlist(sentence) for sentence in raw_sentences if len(sentence) > 0]"
   ]
  },
  {
   "cell_type": "code",
   "execution_count": 13,
   "metadata": {
    "collapsed": false
   },
   "outputs": [
    {
     "data": {
      "text/plain": [
       "[['Health', 'Insurance', 'How', 'Does', 'It', 'Work'],\n",
       " ['Four',\n",
       "  'Questions',\n",
       "  'to',\n",
       "  'Ask',\n",
       "  'About',\n",
       "  'Health',\n",
       "  'Care',\n",
       "  'Reform',\n",
       "  'We',\n",
       "  'rarely',\n",
       "  'have',\n",
       "  'to',\n",
       "  'ask',\n",
       "  'how',\n",
       "  'car',\n",
       "  'insurance',\n",
       "  'or',\n",
       "  'home',\n",
       "  'insurance',\n",
       "  'work']]"
      ]
     },
     "execution_count": 13,
     "metadata": {},
     "output_type": "execute_result"
    }
   ],
   "source": [
    "sentences[:2]"
   ]
  },
  {
   "cell_type": "markdown",
   "metadata": {},
   "source": [
    "### Stop words removal"
   ]
  },
  {
   "cell_type": "code",
   "execution_count": 14,
   "metadata": {
    "collapsed": true
   },
   "outputs": [],
   "source": [
    "from nltk.corpus import stopwords"
   ]
  },
  {
   "cell_type": "code",
   "execution_count": 15,
   "metadata": {
    "collapsed": true
   },
   "outputs": [],
   "source": [
    "stop = set(stopwords.words('english'))"
   ]
  },
  {
   "cell_type": "code",
   "execution_count": 16,
   "metadata": {
    "collapsed": true
   },
   "outputs": [],
   "source": [
    "sentences_non_stop = [[word for word in sentence if word not in stop] for sentence in sentences]"
   ]
  },
  {
   "cell_type": "markdown",
   "metadata": {},
   "source": [
    "### Stemmer\n",
    "\n",
    "[TODO]"
   ]
  },
  {
   "cell_type": "markdown",
   "metadata": {},
   "source": [
    "Token count"
   ]
  },
  {
   "cell_type": "code",
   "execution_count": 17,
   "metadata": {
    "collapsed": false
   },
   "outputs": [
    {
     "data": {
      "text/plain": [
       "310542"
      ]
     },
     "execution_count": 17,
     "metadata": {},
     "output_type": "execute_result"
    }
   ],
   "source": [
    "sum([len(sentence) for sentence in sentences_non_stop])"
   ]
  },
  {
   "cell_type": "markdown",
   "metadata": {},
   "source": [
    "## Train Word2Vec"
   ]
  },
  {
   "cell_type": "code",
   "execution_count": 18,
   "metadata": {
    "collapsed": true
   },
   "outputs": [],
   "source": [
    "num_features = 300 # dimensionality of the resulting word vectors\n",
    "min_word_count = 3 # minimum word count threshold\n",
    "num_workers = multiprocessing.cpu_count() # number of threads to run in parallel\n",
    "context_size = 7 # context window length\n",
    "downsampling = 1e-3 # downlsample setting for frequent words\n",
    "seed = 42 # seed for the rng, to make the results reproducible"
   ]
  },
  {
   "cell_type": "code",
   "execution_count": 19,
   "metadata": {
    "collapsed": true
   },
   "outputs": [],
   "source": [
    "insurance2vec = w2v.Word2Vec(\n",
    "    sg=1,\n",
    "    seed=seed,\n",
    "    workers=num_workers,\n",
    "    size=num_features,\n",
    "    min_count=min_word_count,\n",
    "    window=context_size,\n",
    "    sample=downsampling\n",
    ")"
   ]
  },
  {
   "cell_type": "code",
   "execution_count": 20,
   "metadata": {
    "collapsed": false
   },
   "outputs": [
    {
     "name": "stderr",
     "output_type": "stream",
     "text": [
      "2017-05-16 15:19:14,676 : INFO : collecting all words and their counts\n",
      "2017-05-16 15:19:14,679 : INFO : PROGRESS: at sentence #0, processed 0 words, keeping 0 word types\n",
      "2017-05-16 15:19:14,785 : INFO : PROGRESS: at sentence #10000, processed 217616 words, keeping 15399 word types\n",
      "2017-05-16 15:19:14,867 : INFO : PROGRESS: at sentence #20000, processed 463900 words, keeping 24147 word types\n",
      "2017-05-16 15:19:14,880 : INFO : collected 25288 word types from a corpus of 516087 raw words and 22001 sentences\n",
      "2017-05-16 15:19:14,880 : INFO : Loading a fresh vocabulary\n",
      "2017-05-16 15:19:14,940 : INFO : min_count=3 retains 10946 unique words (43% of original 25288, drops 14342)\n",
      "2017-05-16 15:19:14,940 : INFO : min_count=3 leaves 497688 word corpus (96% of original 516087, drops 18399)\n",
      "2017-05-16 15:19:14,994 : INFO : deleting the raw counts dictionary of 25288 items\n",
      "2017-05-16 15:19:14,997 : INFO : sample=0.001 downsamples 45 most-common words\n",
      "2017-05-16 15:19:14,998 : INFO : downsampling leaves estimated 393952 word corpus (79.2% of prior 497688)\n",
      "2017-05-16 15:19:14,999 : INFO : estimated required memory for 10946 words and 300 dimensions: 31743400 bytes\n",
      "2017-05-16 15:19:15,080 : INFO : resetting layer weights\n"
     ]
    }
   ],
   "source": [
    "insurance2vec.build_vocab(sentences)"
   ]
  },
  {
   "cell_type": "markdown",
   "metadata": {},
   "source": [
    "Vocabulary length:"
   ]
  },
  {
   "cell_type": "code",
   "execution_count": 21,
   "metadata": {
    "collapsed": false
   },
   "outputs": [
    {
     "data": {
      "text/plain": [
       "10946"
      ]
     },
     "execution_count": 21,
     "metadata": {},
     "output_type": "execute_result"
    }
   ],
   "source": [
    "len(insurance2vec.wv.vocab)"
   ]
  },
  {
   "cell_type": "markdown",
   "metadata": {},
   "source": [
    "### Train the model"
   ]
  },
  {
   "cell_type": "code",
   "execution_count": 22,
   "metadata": {
    "collapsed": false
   },
   "outputs": [
    {
     "name": "stderr",
     "output_type": "stream",
     "text": [
      "2017-05-16 15:19:15,376 : INFO : training model with 4 workers on 10946 vocabulary and 300 features, using sg=1 hs=0 sample=0.001 negative=5 window=7\n",
      "2017-05-16 15:19:15,382 : INFO : expecting 22001 sentences, matching count from corpus used for vocabulary survey\n",
      "2017-05-16 15:19:16,503 : INFO : PROGRESS: at 7.14% examples, 118046 words/s, in_qsize 7, out_qsize 0\n",
      "2017-05-16 15:19:17,623 : INFO : PROGRESS: at 14.61% examples, 127169 words/s, in_qsize 7, out_qsize 0\n",
      "2017-05-16 15:19:18,685 : INFO : PROGRESS: at 22.09% examples, 132568 words/s, in_qsize 8, out_qsize 0\n",
      "2017-05-16 15:19:19,745 : INFO : PROGRESS: at 30.49% examples, 135176 words/s, in_qsize 7, out_qsize 0\n",
      "2017-05-16 15:19:20,810 : INFO : PROGRESS: at 37.35% examples, 135430 words/s, in_qsize 7, out_qsize 0\n",
      "2017-05-16 15:19:21,832 : INFO : PROGRESS: at 44.82% examples, 136424 words/s, in_qsize 7, out_qsize 0\n",
      "2017-05-16 15:19:22,854 : INFO : PROGRESS: at 51.99% examples, 136059 words/s, in_qsize 7, out_qsize 0\n",
      "2017-05-16 15:19:23,986 : INFO : PROGRESS: at 59.25% examples, 135920 words/s, in_qsize 8, out_qsize 0\n",
      "2017-05-16 15:19:25,053 : INFO : PROGRESS: at 67.52% examples, 136685 words/s, in_qsize 8, out_qsize 0\n",
      "2017-05-16 15:19:26,059 : INFO : PROGRESS: at 74.57% examples, 137374 words/s, in_qsize 8, out_qsize 0\n",
      "2017-05-16 15:19:27,109 : INFO : PROGRESS: at 80.88% examples, 136148 words/s, in_qsize 7, out_qsize 0\n",
      "2017-05-16 15:19:28,183 : INFO : PROGRESS: at 89.24% examples, 136590 words/s, in_qsize 7, out_qsize 0\n",
      "2017-05-16 15:19:29,184 : INFO : PROGRESS: at 96.15% examples, 137151 words/s, in_qsize 7, out_qsize 0\n",
      "2017-05-16 15:19:29,648 : INFO : worker thread finished; awaiting finish of 3 more threads\n",
      "2017-05-16 15:19:29,753 : INFO : worker thread finished; awaiting finish of 2 more threads\n",
      "2017-05-16 15:19:29,784 : INFO : worker thread finished; awaiting finish of 1 more threads\n",
      "2017-05-16 15:19:29,786 : INFO : worker thread finished; awaiting finish of 0 more threads\n",
      "2017-05-16 15:19:29,787 : INFO : training on 2580435 raw words (1969884 effective words) took 14.4s, 136995 effective words/s\n"
     ]
    },
    {
     "data": {
      "text/plain": [
       "1969884"
      ]
     },
     "execution_count": 22,
     "metadata": {},
     "output_type": "execute_result"
    }
   ],
   "source": [
    "insurance2vec.train(sentences)"
   ]
  },
  {
   "cell_type": "markdown",
   "metadata": {},
   "source": [
    "#### Save to file"
   ]
  },
  {
   "cell_type": "code",
   "execution_count": 23,
   "metadata": {
    "collapsed": true
   },
   "outputs": [],
   "source": [
    "if not os.path.exists('trained'):\n",
    "    os.makedirs('trained')"
   ]
  },
  {
   "cell_type": "code",
   "execution_count": 24,
   "metadata": {
    "collapsed": false
   },
   "outputs": [
    {
     "name": "stderr",
     "output_type": "stream",
     "text": [
      "2017-05-16 15:19:29,820 : INFO : saving Word2Vec object under trained\\insurance2vec.w2v, separately None\n",
      "2017-05-16 15:19:29,828 : INFO : not storing attribute syn0norm\n",
      "2017-05-16 15:19:29,831 : INFO : not storing attribute cum_table\n",
      "2017-05-16 15:19:30,348 : INFO : saved trained\\insurance2vec.w2v\n"
     ]
    }
   ],
   "source": [
    "insurance2vec.save(os.path.join('trained', 'insurance2vec.w2v'))"
   ]
  },
  {
   "cell_type": "markdown",
   "metadata": {},
   "source": [
    "## Explore the trained model"
   ]
  },
  {
   "cell_type": "code",
   "execution_count": 25,
   "metadata": {
    "collapsed": false
   },
   "outputs": [
    {
     "name": "stderr",
     "output_type": "stream",
     "text": [
      "2017-05-16 15:19:30,358 : INFO : loading Word2Vec object from trained\\insurance2vec.w2v\n",
      "2017-05-16 15:19:30,750 : INFO : loading wv recursively from trained\\insurance2vec.w2v.wv.* with mmap=None\n",
      "2017-05-16 15:19:30,751 : INFO : setting ignored attribute syn0norm to None\n",
      "2017-05-16 15:19:30,752 : INFO : setting ignored attribute cum_table to None\n",
      "2017-05-16 15:19:30,754 : INFO : loaded trained\\insurance2vec.w2v\n"
     ]
    }
   ],
   "source": [
    "insurance2vec = w2v.Word2Vec.load(os.path.join('trained', 'insurance2vec.w2v'))"
   ]
  },
  {
   "cell_type": "markdown",
   "metadata": {},
   "source": [
    "## Compress the word vectors into 2D space"
   ]
  },
  {
   "cell_type": "code",
   "execution_count": 26,
   "metadata": {
    "collapsed": true
   },
   "outputs": [],
   "source": [
    "tsne = sklearn.manifold.TSNE(n_components=2, random_state=seed)"
   ]
  },
  {
   "cell_type": "code",
   "execution_count": 27,
   "metadata": {
    "collapsed": false
   },
   "outputs": [],
   "source": [
    "all_word_vectors_matrix = insurance2vec.wv.syn0"
   ]
  },
  {
   "cell_type": "code",
   "execution_count": 28,
   "metadata": {
    "collapsed": true
   },
   "outputs": [],
   "source": [
    "all_word_vectors_matrix_2d = tsne.fit_transform(all_word_vectors_matrix)"
   ]
  },
  {
   "cell_type": "markdown",
   "metadata": {},
   "source": [
    "#### Plot the big picture"
   ]
  },
  {
   "cell_type": "code",
   "execution_count": 29,
   "metadata": {
    "collapsed": false
   },
   "outputs": [],
   "source": [
    "points = pd.DataFrame(\n",
    "    [\n",
    "        (word, coords[0], coords[1])\n",
    "        for word, coords in [\n",
    "            (word, all_word_vectors_matrix_2d[insurance2vec.wv.vocab[word].index])\n",
    "            for word in insurance2vec.wv.vocab\n",
    "        ]\n",
    "    ],\n",
    "    columns=['word', 'x', 'y']\n",
    ")"
   ]
  },
  {
   "cell_type": "code",
   "execution_count": 30,
   "metadata": {
    "collapsed": false
   },
   "outputs": [
    {
     "data": {
      "text/html": [
       "<div>\n",
       "<table border=\"1\" class=\"dataframe\">\n",
       "  <thead>\n",
       "    <tr style=\"text-align: right;\">\n",
       "      <th></th>\n",
       "      <th>word</th>\n",
       "      <th>x</th>\n",
       "      <th>y</th>\n",
       "    </tr>\n",
       "  </thead>\n",
       "  <tbody>\n",
       "    <tr>\n",
       "      <th>0</th>\n",
       "      <td>Leo</td>\n",
       "      <td>-2.637159</td>\n",
       "      <td>-1.528505</td>\n",
       "    </tr>\n",
       "    <tr>\n",
       "      <th>1</th>\n",
       "      <td>campaigned</td>\n",
       "      <td>5.438625</td>\n",
       "      <td>-2.645405</td>\n",
       "    </tr>\n",
       "    <tr>\n",
       "      <th>2</th>\n",
       "      <td>defined</td>\n",
       "      <td>2.218485</td>\n",
       "      <td>2.447097</td>\n",
       "    </tr>\n",
       "    <tr>\n",
       "      <th>3</th>\n",
       "      <td>extending</td>\n",
       "      <td>2.239341</td>\n",
       "      <td>3.994984</td>\n",
       "    </tr>\n",
       "    <tr>\n",
       "      <th>4</th>\n",
       "      <td>Responds</td>\n",
       "      <td>-5.264719</td>\n",
       "      <td>1.051543</td>\n",
       "    </tr>\n",
       "  </tbody>\n",
       "</table>\n",
       "</div>"
      ],
      "text/plain": [
       "         word         x         y\n",
       "0         Leo -2.637159 -1.528505\n",
       "1  campaigned  5.438625 -2.645405\n",
       "2     defined  2.218485  2.447097\n",
       "3   extending  2.239341  3.994984\n",
       "4    Responds -5.264719  1.051543"
      ]
     },
     "execution_count": 30,
     "metadata": {},
     "output_type": "execute_result"
    }
   ],
   "source": [
    "points.head()"
   ]
  },
  {
   "cell_type": "code",
   "execution_count": 31,
   "metadata": {
    "collapsed": false
   },
   "outputs": [
    {
     "data": {
      "text/plain": [
       "<matplotlib.axes._subplots.AxesSubplot at 0x9a5d1d93c8>"
      ]
     },
     "execution_count": 31,
     "metadata": {},
     "output_type": "execute_result"
    },
    {
     "data": {
      "image/png": "[encoded data removed]",
      "text/plain": [
       "<matplotlib.figure.Figure at 0x9a5d17c160>"
      ]
     },
     "metadata": {},
     "output_type": "display_data"
    }
   ],
   "source": [
    "points.plot.scatter('x', 'y', s=10, figsize=(20, 12))"
   ]
  },
  {
   "cell_type": "code",
   "execution_count": 32,
   "metadata": {
    "collapsed": true
   },
   "outputs": [],
   "source": [
    "def plot_region(x_bounds, y_bounds):\n",
    "    slice = points[\n",
    "        (x_bounds[0] <= points.x) &\n",
    "        (points.x <= x_bounds[1]) & \n",
    "        (y_bounds[0] <= points.y) &\n",
    "        (points.y <= y_bounds[1])\n",
    "    ]\n",
    "    \n",
    "    ax = slice.plot.scatter(\"x\", \"y\", s=35, figsize=(10, 8))\n",
    "    for i, point in slice.iterrows():\n",
    "        ax.text(point.x + 0.005, point.y + 0.005, point.word, fontsize=11)"
   ]
  },
  {
   "cell_type": "code",
   "execution_count": 33,
   "metadata": {
    "collapsed": false,
    "scrolled": false
   },
   "outputs": [
    {
     "data": {
      "image/png": "[encoded data removed]",
      "text/plain": [
       "<matplotlib.figure.Figure at 0x9a000efc88>"
      ]
     },
     "metadata": {},
     "output_type": "display_data"
    }
   ],
   "source": [
    "plot_region(x_bounds=(0, 1), y_bounds=(4, 4.5))"
   ]
  },
  {
   "cell_type": "code",
   "execution_count": null,
   "metadata": {
    "collapsed": true
   },
   "outputs": [],
   "source": []
  },
  {
   "cell_type": "markdown",
   "metadata": {},
   "source": [
    "## Explore semantic similarities between book characters"
   ]
  },
  {
   "cell_type": "markdown",
   "metadata": {},
   "source": [
    "#### Words closest to the given word"
   ]
  },
  {
   "cell_type": "code",
   "execution_count": 34,
   "metadata": {
    "collapsed": false
   },
   "outputs": [
    {
     "name": "stderr",
     "output_type": "stream",
     "text": [
      "2017-05-16 15:25:41,906 : INFO : precomputing L2-norms of word weight vectors\n"
     ]
    },
    {
     "data": {
      "text/plain": [
       "[('policies', 0.7013731002807617),\n",
       " ('brokerage', 0.6919546127319336),\n",
       " ('insurances', 0.6909133195877075),\n",
       " ('specifically', 0.6859185099601746),\n",
       " ('med', 0.6842886209487915),\n",
       " ('rental', 0.6836692690849304),\n",
       " ('warranties', 0.6812809109687805),\n",
       " ('offering', 0.6784009337425232),\n",
       " ('individual', 0.6751512885093689),\n",
       " ('shop', 0.6750141382217407)]"
      ]
     },
     "execution_count": 34,
     "metadata": {},
     "output_type": "execute_result"
    }
   ],
   "source": [
    "insurance2vec.most_similar('insurance')"
   ]
  },
  {
   "cell_type": "code",
   "execution_count": 35,
   "metadata": {
    "collapsed": false
   },
   "outputs": [
    {
     "data": {
      "text/plain": [
       "[('intelligence', 0.9216578602790833),\n",
       " ('development', 0.9105468392372131),\n",
       " ('centric', 0.9076791405677795),\n",
       " ('predictive', 0.9064403176307678),\n",
       " ('design', 0.8995383977890015),\n",
       " ('android', 0.8992748260498047),\n",
       " ('models', 0.8953187465667725),\n",
       " ('technologies', 0.8950081467628479),\n",
       " ('distribution', 0.8937808871269226),\n",
       " ('connected', 0.8927836418151855)]"
      ]
     },
     "execution_count": 35,
     "metadata": {},
     "output_type": "execute_result"
    }
   ],
   "source": [
    "insurance2vec.most_similar('blockchain')"
   ]
  },
  {
   "cell_type": "code",
   "execution_count": 36,
   "metadata": {
    "collapsed": false
   },
   "outputs": [
    {
     "data": {
      "text/plain": [
       "[('developer', 0.9209660887718201),\n",
       " ('android', 0.9176017642021179),\n",
       " ('websites', 0.9154828786849976),\n",
       " ('online', 0.9105687141418457),\n",
       " ('dynamic', 0.9099389314651489),\n",
       " ('connect', 0.9083340764045715),\n",
       " ('reputation', 0.9082989692687988),\n",
       " ('brand', 0.9044582843780518),\n",
       " ('smartphone', 0.9001700282096863),\n",
       " ('peers', 0.8991681933403015)]"
      ]
     },
     "execution_count": 36,
     "metadata": {},
     "output_type": "execute_result"
    }
   ],
   "source": [
    "insurance2vec.most_similar('broker')"
   ]
  },
  {
   "cell_type": "markdown",
   "metadata": {},
   "source": [
    "#### Linear relationships between word pairs"
   ]
  },
  {
   "cell_type": "code",
   "execution_count": 37,
   "metadata": {
    "collapsed": true
   },
   "outputs": [],
   "source": [
    "def nearest_similarity_cosmul(start1, end1, end2):\n",
    "    similarities = insurance2vec.most_similar_cosmul(\n",
    "        positive=[end2, start1],\n",
    "        negative=[end1]\n",
    "    )\n",
    "    start2 = similarities[0][0]\n",
    "    print('{start1} is related to {end1}, as {start2} is related to {end2}'.format(**locals()))"
   ]
  },
  {
   "cell_type": "code",
   "execution_count": 38,
   "metadata": {
    "collapsed": false
   },
   "outputs": [
    {
     "name": "stdout",
     "output_type": "stream",
     "text": [
      "blockchain is related to bank, as disrupt is related to insurance\n"
     ]
    }
   ],
   "source": [
    "nearest_similarity_cosmul('blockchain', 'bank', 'insurance')"
   ]
  },
  {
   "cell_type": "code",
   "execution_count": 39,
   "metadata": {
    "collapsed": false
   },
   "outputs": [
    {
     "name": "stdout",
     "output_type": "stream",
     "text": [
      "legacy is related to bank, as designed is related to insurance\n"
     ]
    }
   ],
   "source": [
    "nearest_similarity_cosmul('legacy', 'bank', 'insurance')"
   ]
  },
  {
   "cell_type": "markdown",
   "metadata": {},
   "source": [
    "# Develop a model for text generation"
   ]
  },
  {
   "cell_type": "code",
   "execution_count": 40,
   "metadata": {
    "collapsed": false
   },
   "outputs": [
    {
     "name": "stderr",
     "output_type": "stream",
     "text": [
      "Using TensorFlow backend.\n"
     ]
    }
   ],
   "source": [
    "from keras.models import Sequential\n",
    "from keras.layers import Dense, Dropout, LSTM\n",
    "from keras.callbacks import ModelCheckpoint\n",
    "from keras.utils import np_utils"
   ]
  },
  {
   "cell_type": "code",
   "execution_count": 41,
   "metadata": {
    "collapsed": true
   },
   "outputs": [],
   "source": [
    "from keras.layers import Embedding\n",
    "from keras.engine import Input"
   ]
  },
  {
   "cell_type": "code",
   "execution_count": 42,
   "metadata": {
    "collapsed": false
   },
   "outputs": [],
   "source": [
    "idx2word = ['null'] + list(insurance2vec.wv.vocab.keys())"
   ]
  },
  {
   "cell_type": "code",
   "execution_count": 43,
   "metadata": {
    "collapsed": true
   },
   "outputs": [],
   "source": [
    "word2idx = {w: i for i, w in enumerate(idx2word)}"
   ]
  },
  {
   "cell_type": "code",
   "execution_count": 44,
   "metadata": {
    "collapsed": false
   },
   "outputs": [],
   "source": [
    "word_vectors = np.asarray([insurance2vec.wv.word_vec(w) for w in idx2word if w != 'null'])"
   ]
  },
  {
   "cell_type": "code",
   "execution_count": 45,
   "metadata": {
    "collapsed": true
   },
   "outputs": [],
   "source": [
    "word_vectors = np.append(np.zeros((1, num_features)), word_vectors, axis=0)"
   ]
  },
  {
   "cell_type": "code",
   "execution_count": 46,
   "metadata": {
    "collapsed": false
   },
   "outputs": [
    {
     "data": {
      "text/plain": [
       "<keras.layers.embeddings.Embedding at 0x9a00014d30>"
      ]
     },
     "execution_count": 46,
     "metadata": {},
     "output_type": "execute_result"
    }
   ],
   "source": [
    "Embedding(input_dim=word_vectors.shape[0], \n",
    "          output_dim=num_features, \n",
    "          weights=word_vectors)"
   ]
  },
  {
   "cell_type": "code",
   "execution_count": 47,
   "metadata": {
    "collapsed": true
   },
   "outputs": [],
   "source": [
    "sentences_randomized = np.random.permutation(sentences)"
   ]
  },
  {
   "cell_type": "code",
   "execution_count": 48,
   "metadata": {
    "collapsed": true
   },
   "outputs": [],
   "source": [
    "import math"
   ]
  },
  {
   "cell_type": "code",
   "execution_count": 49,
   "metadata": {
    "collapsed": false
   },
   "outputs": [],
   "source": [
    "train_test_split = math.floor(len(sentences_randomized) * 0.8)"
   ]
  },
  {
   "cell_type": "code",
   "execution_count": 50,
   "metadata": {
    "collapsed": false
   },
   "outputs": [],
   "source": [
    "x_train = np.asarray([[word2idx[word] if word in word2idx else 0 for word in sentence[:-1]] for sentence in sentences_randomized[:train_test_split]])"
   ]
  },
  {
   "cell_type": "code",
   "execution_count": 51,
   "metadata": {
    "collapsed": true
   },
   "outputs": [],
   "source": [
    "x_valid = np.asarray([[word2idx[word] if word in word2idx else 0 for word in sentence[:-1]] for sentence in sentences_randomized[train_test_split:]])"
   ]
  },
  {
   "cell_type": "code",
   "execution_count": 52,
   "metadata": {
    "collapsed": true
   },
   "outputs": [],
   "source": [
    "y_train = np.asarray([[word2idx[word] if word in word2idx else 0 for word in sentence[1:]] for sentence in sentences_randomized[:train_test_split]])"
   ]
  },
  {
   "cell_type": "code",
   "execution_count": 53,
   "metadata": {
    "collapsed": true
   },
   "outputs": [],
   "source": [
    "y_valid = np.asarray([[word2idx[word] if word in word2idx else 0 for word in sentence[1:]] for sentence in sentences_randomized[train_test_split:]])"
   ]
  },
  {
   "cell_type": "code",
   "execution_count": 54,
   "metadata": {
    "collapsed": true
   },
   "outputs": [],
   "source": [
    "max_len = 80\n",
    "batch_size = 32"
   ]
  },
  {
   "cell_type": "markdown",
   "metadata": {},
   "source": [
    "### Pad sequences"
   ]
  },
  {
   "cell_type": "code",
   "execution_count": 55,
   "metadata": {
    "collapsed": true
   },
   "outputs": [],
   "source": [
    "from keras.preprocessing import sequence"
   ]
  },
  {
   "cell_type": "code",
   "execution_count": 56,
   "metadata": {
    "collapsed": false
   },
   "outputs": [],
   "source": [
    "x_train = sequence.pad_sequences(x_train, maxlen=max_len)"
   ]
  },
  {
   "cell_type": "code",
   "execution_count": 57,
   "metadata": {
    "collapsed": true
   },
   "outputs": [],
   "source": [
    "y_train = sequence.pad_sequences(y_train, maxlen=max_len)"
   ]
  },
  {
   "cell_type": "code",
   "execution_count": 58,
   "metadata": {
    "collapsed": true
   },
   "outputs": [],
   "source": [
    "x_valid = sequence.pad_sequences(x_valid, maxlen=max_len)"
   ]
  },
  {
   "cell_type": "code",
   "execution_count": 208,
   "metadata": {
    "collapsed": true
   },
   "outputs": [],
   "source": [
    "y_valid = sequence.pad_sequences(y_valid, maxlen=max_len)"
   ]
  },
  {
   "cell_type": "markdown",
   "metadata": {},
   "source": [
    "### Build the model"
   ]
  },
  {
   "cell_type": "code",
   "execution_count": 212,
   "metadata": {
    "collapsed": true
   },
   "outputs": [],
   "source": [
    "model = Sequential()"
   ]
  },
  {
   "cell_type": "code",
   "execution_count": 213,
   "metadata": {
    "collapsed": false
   },
   "outputs": [],
   "source": [
    "model.add(Embedding(input_dim=word_vectors.shape[0], \n",
    "          output_dim=num_features, \n",
    "          weights=[word_vectors]))"
   ]
  },
  {
   "cell_type": "code",
   "execution_count": 214,
   "metadata": {
    "collapsed": true
   },
   "outputs": [],
   "source": [
    "model.add(LSTM(128, dropout=0.2, recurrent_dropout=0.2))"
   ]
  },
  {
   "cell_type": "code",
   "execution_count": 215,
   "metadata": {
    "collapsed": true
   },
   "outputs": [],
   "source": [
    "model.add(Dense(word_vectors.shape[0], activation='softmax'))"
   ]
  },
  {
   "cell_type": "code",
   "execution_count": 216,
   "metadata": {
    "collapsed": true
   },
   "outputs": [],
   "source": [
    "model.compile(loss='categorical_crossentropy', optimizer='adam', metrics=['accuracy'])"
   ]
  },
  {
   "cell_type": "code",
   "execution_count": 217,
   "metadata": {
    "collapsed": false
   },
   "outputs": [
    {
     "ename": "ValueError",
     "evalue": "Error when checking model target: expected dense_1 to have shape (None, 10947) but got array with shape (17600, 80)",
     "output_type": "error",
     "traceback": [
      "\u001b[0;31m---------------------------------------------------------------------------\u001b[0m",
      "\u001b[0;31mValueError\u001b[0m                                Traceback (most recent call last)",
      "\u001b[0;32m<ipython-input-217-41d5f2464a72>\u001b[0m in \u001b[0;36m<module>\u001b[0;34m()\u001b[0m\n\u001b[1;32m      2\u001b[0m           \u001b[0mbatch_size\u001b[0m\u001b[1;33m=\u001b[0m\u001b[0mbatch_size\u001b[0m\u001b[1;33m,\u001b[0m\u001b[1;33m\u001b[0m\u001b[0m\n\u001b[1;32m      3\u001b[0m           \u001b[0mepochs\u001b[0m\u001b[1;33m=\u001b[0m\u001b[1;36m15\u001b[0m\u001b[1;33m,\u001b[0m\u001b[1;33m\u001b[0m\u001b[0m\n\u001b[0;32m----> 4\u001b[0;31m           validation_data=(x_valid, y_valid))\n\u001b[0m",
      "\u001b[0;32mC:\\Users\\diogopinto\\AppData\\Local\\Continuum\\Anaconda3\\lib\\site-packages\\keras\\models.py\u001b[0m in \u001b[0;36mfit\u001b[0;34m(self, x, y, batch_size, epochs, verbose, callbacks, validation_split, validation_data, shuffle, class_weight, sample_weight, initial_epoch, **kwargs)\u001b[0m\n\u001b[1;32m    851\u001b[0m                               \u001b[0mclass_weight\u001b[0m\u001b[1;33m=\u001b[0m\u001b[0mclass_weight\u001b[0m\u001b[1;33m,\u001b[0m\u001b[1;33m\u001b[0m\u001b[0m\n\u001b[1;32m    852\u001b[0m                               \u001b[0msample_weight\u001b[0m\u001b[1;33m=\u001b[0m\u001b[0msample_weight\u001b[0m\u001b[1;33m,\u001b[0m\u001b[1;33m\u001b[0m\u001b[0m\n\u001b[0;32m--> 853\u001b[0;31m                               initial_epoch=initial_epoch)\n\u001b[0m\u001b[1;32m    854\u001b[0m \u001b[1;33m\u001b[0m\u001b[0m\n\u001b[1;32m    855\u001b[0m     def evaluate(self, x, y, batch_size=32, verbose=1,\n",
      "\u001b[0;32mC:\\Users\\diogopinto\\AppData\\Local\\Continuum\\Anaconda3\\lib\\site-packages\\keras\\engine\\training.py\u001b[0m in \u001b[0;36mfit\u001b[0;34m(self, x, y, batch_size, epochs, verbose, callbacks, validation_split, validation_data, shuffle, class_weight, sample_weight, initial_epoch, **kwargs)\u001b[0m\n\u001b[1;32m   1404\u001b[0m             \u001b[0mclass_weight\u001b[0m\u001b[1;33m=\u001b[0m\u001b[0mclass_weight\u001b[0m\u001b[1;33m,\u001b[0m\u001b[1;33m\u001b[0m\u001b[0m\n\u001b[1;32m   1405\u001b[0m             \u001b[0mcheck_batch_axis\u001b[0m\u001b[1;33m=\u001b[0m\u001b[1;32mFalse\u001b[0m\u001b[1;33m,\u001b[0m\u001b[1;33m\u001b[0m\u001b[0m\n\u001b[0;32m-> 1406\u001b[0;31m             batch_size=batch_size)\n\u001b[0m\u001b[1;32m   1407\u001b[0m         \u001b[1;31m# prepare validation data\u001b[0m\u001b[1;33m\u001b[0m\u001b[1;33m\u001b[0m\u001b[0m\n\u001b[1;32m   1408\u001b[0m         \u001b[1;32mif\u001b[0m \u001b[0mvalidation_data\u001b[0m\u001b[1;33m:\u001b[0m\u001b[1;33m\u001b[0m\u001b[0m\n",
      "\u001b[0;32mC:\\Users\\diogopinto\\AppData\\Local\\Continuum\\Anaconda3\\lib\\site-packages\\keras\\engine\\training.py\u001b[0m in \u001b[0;36m_standardize_user_data\u001b[0;34m(self, x, y, sample_weight, class_weight, check_batch_axis, batch_size)\u001b[0m\n\u001b[1;32m   1298\u001b[0m                                     \u001b[0moutput_shapes\u001b[0m\u001b[1;33m,\u001b[0m\u001b[1;33m\u001b[0m\u001b[0m\n\u001b[1;32m   1299\u001b[0m                                     \u001b[0mcheck_batch_axis\u001b[0m\u001b[1;33m=\u001b[0m\u001b[1;32mFalse\u001b[0m\u001b[1;33m,\u001b[0m\u001b[1;33m\u001b[0m\u001b[0m\n\u001b[0;32m-> 1300\u001b[0;31m                                     exception_prefix='model target')\n\u001b[0m\u001b[1;32m   1301\u001b[0m         sample_weights = _standardize_sample_weights(sample_weight,\n\u001b[1;32m   1302\u001b[0m                                                      self._feed_output_names)\n",
      "\u001b[0;32mC:\\Users\\diogopinto\\AppData\\Local\\Continuum\\Anaconda3\\lib\\site-packages\\keras\\engine\\training.py\u001b[0m in \u001b[0;36m_standardize_input_data\u001b[0;34m(data, names, shapes, check_batch_axis, exception_prefix)\u001b[0m\n\u001b[1;32m    131\u001b[0m                             \u001b[1;34m' to have shape '\u001b[0m \u001b[1;33m+\u001b[0m \u001b[0mstr\u001b[0m\u001b[1;33m(\u001b[0m\u001b[0mshapes\u001b[0m\u001b[1;33m[\u001b[0m\u001b[0mi\u001b[0m\u001b[1;33m]\u001b[0m\u001b[1;33m)\u001b[0m \u001b[1;33m+\u001b[0m\u001b[1;33m\u001b[0m\u001b[0m\n\u001b[1;32m    132\u001b[0m                             \u001b[1;34m' but got array with shape '\u001b[0m \u001b[1;33m+\u001b[0m\u001b[1;33m\u001b[0m\u001b[0m\n\u001b[0;32m--> 133\u001b[0;31m                             str(array.shape))\n\u001b[0m\u001b[1;32m    134\u001b[0m     \u001b[1;32mreturn\u001b[0m \u001b[0marrays\u001b[0m\u001b[1;33m\u001b[0m\u001b[0m\n\u001b[1;32m    135\u001b[0m \u001b[1;33m\u001b[0m\u001b[0m\n",
      "\u001b[0;31mValueError\u001b[0m: Error when checking model target: expected dense_1 to have shape (None, 10947) but got array with shape (17600, 80)"
     ]
    }
   ],
   "source": [
    "model.fit(x_train, y_train,\n",
    "          batch_size=batch_size,\n",
    "          epochs=15,\n",
    "          validation_data=(x_valid, y_valid))"
   ]
  },
  {
   "cell_type": "markdown",
   "metadata": {},
   "source": [
    "## Character by character model"
   ]
  },
  {
   "cell_type": "code",
   "execution_count": 63,
   "metadata": {
    "collapsed": false
   },
   "outputs": [
    {
     "data": {
      "text/plain": [
       "'Health Insurance: How Does It Work?\\nFour Questions to Ask About Health Care Reform\\nWe rarely have to'"
      ]
     },
     "execution_count": 63,
     "metadata": {},
     "output_type": "execute_result"
    }
   ],
   "source": [
    "articles[:100]"
   ]
  },
  {
   "cell_type": "code",
   "execution_count": 64,
   "metadata": {
    "collapsed": true
   },
   "outputs": [],
   "source": [
    "from keras.models import Sequential\n",
    "from keras.layers import Dense, LSTM"
   ]
  },
  {
   "cell_type": "code",
   "execution_count": 65,
   "metadata": {
    "collapsed": true
   },
   "outputs": [],
   "source": [
    "chars = sorted(list(set(articles)))"
   ]
  },
  {
   "cell_type": "code",
   "execution_count": 68,
   "metadata": {
    "collapsed": true
   },
   "outputs": [],
   "source": [
    "idx2char = chars"
   ]
  },
  {
   "cell_type": "code",
   "execution_count": 69,
   "metadata": {
    "collapsed": true
   },
   "outputs": [],
   "source": [
    "char2idx = {c: i for i, c in enumerate(idx2char)}"
   ]
  },
  {
   "cell_type": "code",
   "execution_count": 71,
   "metadata": {
    "collapsed": false
   },
   "outputs": [],
   "source": [
    "maxlen = 40\n",
    "step = 3\n",
    "sentences = []\n",
    "next_chars = []\n",
    "for i in range(0, len(articles) - maxlen, step):\n",
    "    sentences.append(articles[i:i+maxlen])\n",
    "    next_chars.append(articles[i+maxlen])"
   ]
  },
  {
   "cell_type": "markdown",
   "metadata": {},
   "source": [
    "#### Vectorization"
   ]
  },
  {
   "cell_type": "code",
   "execution_count": 80,
   "metadata": {
    "collapsed": true
   },
   "outputs": [],
   "source": [
    "x = np.zeros((len(sentences), maxlen, len(chars)), dtype=np.bool)"
   ]
  },
  {
   "cell_type": "code",
   "execution_count": 81,
   "metadata": {
    "collapsed": true
   },
   "outputs": [],
   "source": [
    "y = np.zeros((len(sentences), len(chars)), dtype=np.bool)"
   ]
  },
  {
   "cell_type": "code",
   "execution_count": 82,
   "metadata": {
    "collapsed": false
   },
   "outputs": [],
   "source": [
    "for i, sentence in enumerate(sentences):\n",
    "    for j, char in enumerate(sentence):\n",
    "        x[i, j, char2idx[char]] = 1\n",
    "    y[i, char2idx[next_chars[i]]] = 1"
   ]
  },
  {
   "cell_type": "code",
   "execution_count": 83,
   "metadata": {
    "collapsed": true
   },
   "outputs": [],
   "source": [
    "idx = np.random.permutation(len(x))"
   ]
  },
  {
   "cell_type": "code",
   "execution_count": 85,
   "metadata": {
    "collapsed": true
   },
   "outputs": [],
   "source": [
    "x = x[idx]"
   ]
  },
  {
   "cell_type": "code",
   "execution_count": 86,
   "metadata": {
    "collapsed": true
   },
   "outputs": [],
   "source": [
    "y = y[idx]"
   ]
  },
  {
   "cell_type": "code",
   "execution_count": 87,
   "metadata": {
    "collapsed": true
   },
   "outputs": [],
   "source": [
    "train_test_split = int(len(x) * 0.8)"
   ]
  },
  {
   "cell_type": "code",
   "execution_count": 88,
   "metadata": {
    "collapsed": true
   },
   "outputs": [],
   "source": [
    "x_train, x_valid = x[:train_test_split], x[train_test_split:]"
   ]
  },
  {
   "cell_type": "code",
   "execution_count": 89,
   "metadata": {
    "collapsed": true
   },
   "outputs": [],
   "source": [
    "y_train, y_valid = y[:train_test_split], y[train_test_split:]"
   ]
  },
  {
   "cell_type": "markdown",
   "metadata": {},
   "source": [
    "## Build the model"
   ]
  },
  {
   "cell_type": "code",
   "execution_count": 107,
   "metadata": {
    "collapsed": true
   },
   "outputs": [],
   "source": [
    "model = Sequential()"
   ]
  },
  {
   "cell_type": "code",
   "execution_count": 108,
   "metadata": {
    "collapsed": true
   },
   "outputs": [],
   "source": [
    "model.add(LSTM(128, input_shape=(maxlen, len(chars))))"
   ]
  },
  {
   "cell_type": "code",
   "execution_count": 109,
   "metadata": {
    "collapsed": true
   },
   "outputs": [],
   "source": [
    "model.add(Dense(len(chars), activation='softmax'))"
   ]
  },
  {
   "cell_type": "code",
   "execution_count": 110,
   "metadata": {
    "collapsed": true
   },
   "outputs": [],
   "source": [
    "model.compile(loss='categorical_crossentropy', optimizer='adam', metrics=['accuracy'])"
   ]
  },
  {
   "cell_type": "code",
   "execution_count": 111,
   "metadata": {
    "collapsed": true
   },
   "outputs": [],
   "source": [
    "def sample(preds, temperature=1.0):\n",
    "    preds = np.asarray(preds).astype('float64')\n",
    "    preds = np.log(preds)/temperature\n",
    "    exp_preds = np.exp(preds)\n",
    "    preds = exp_preds / np.sum(exp_preds)\n",
    "    probas = np.random.multinomial(1, preds, 1)\n",
    "    return np.argmax(probas)"
   ]
  },
  {
   "cell_type": "code",
   "execution_count": 112,
   "metadata": {
    "collapsed": false,
    "scrolled": false
   },
   "outputs": [
    {
     "name": "stdout",
     "output_type": "stream",
     "text": [
      "\n",
      "--------------------------------------------------\n",
      "Iteration 1\n",
      "Epoch 1/1\n",
      "836966/836966 [==============================] - 1962s - loss: 2.3286 - acc: 0.3497  \n",
      "\n",
      "----- diversity: 0.2\n",
      "------ Generating with seed: \"one-stop shopping” and service in multip\"\n",
      "one-stop shopping” and service in multiple insurance the deall the provers and the proved the compance the conder the conding the companies the compance the proved the and the compance the compane the complate insurance the contored the compare the provere to the companies and the were a propent in the compane the peally the companies and the and the promed the promed the has and the conder the coverage the call insurance the companies \n",
      "\n",
      "----- diversity: 0.5\n",
      "------ Generating with seed: \"one-stop shopping” and service in multip\"\n",
      "one-stop shopping” and service in multiplly and companie seall insurance that the prowes experticly to conds the palle and insurance the prepence that eronded the wask at of thi lack could acrestion lack to the can the are all is an of the as of the with in a but of care and the fork the fere buthount proched in that a dertion a lot cosple the condent to a the that yill to cond the compance in on and proved the with and the and contry s\n",
      "\n",
      "----- diversity: 1.0\n",
      "------ Generating with seed: \"one-stop shopping” and service in multip\"\n",
      "one-stop shopping” and service in multipgry cexidy thein E9f G4A5bomursintredist Knor Secrontatice the homm theerng atent en ables Pataop rapls aprout that hedoam ffortiel Saud “coop tho (anane to Anduraseat Coreperants plover’s tha spupal rayeity groue. Shap houbplam coll 20-by a fould the dadin spy arre thetle and billins dochaty do furmest that ast corvaoall wougher sstions for 1Qlew on aprooitele arourts. Sorce fee fow aly platches \n",
      "\n",
      "----- diversity: 1.2\n",
      "------ Generating with seed: \"one-stop shopping” and service in multip\"\n",
      "one-stop shopping” and service in multiputr ach, Insucarc cossade the as intrydive ws Mupremthate hemp eanctientiog HoRets Hacp, ihalleypreentt $018 loestote Safr’rl cimenta. Hot ane syout quockeling caod at the foronties Caik\n",
      "excticaure.\n",
      "Tt’y gring fow of Biss the encrnturskecage a pouglly labmicludenteing Memolkal the matles, A’th warex costifibly.\n",
      "” Cald.\n",
      "BomesJe) sening homu apkingen, natarsent and and naNet’ cersore.\n",
      "\n",
      "It triosl ber\n",
      "\n",
      "--------------------------------------------------\n",
      "Iteration 2\n",
      "Epoch 1/1\n",
      "836966/836966 [==============================] - 1984s - loss: 1.9285 - acc: 0.4432  \n",
      "\n",
      "----- diversity: 0.2\n",
      "------ Generating with seed: \"cription drug costs also grew significan\"\n",
      "cription drug costs also grew significant in the provident and the provided that insurance companies to the cost the care and the pays and the provided to and the relices and the provident the companies and companies and the fiter the provides of the provident and the companies and the previces and the provident the provident and the renefrial the care the provided the provident in the provided to the provided in the consured to the car\n",
      "\n",
      "----- diversity: 0.5\n",
      "------ Generating with seed: \"cription drug costs also grew significan\"\n",
      "cription drug costs also grew significant insurance for state and the are insurance insurance insurance company covered in the faction for cost the insurens the remore in the fulls and the start care as the porsing the end the can sefure that the pay in the proved to likely to chise and the for many policy in the providers to working of the provident by belonitilital the insurance for the costs what in the real dilitions and the constri\n",
      "\n",
      "----- diversity: 1.0\n",
      "------ Generating with seed: \"cription drug costs also grew significan\"\n",
      "cription drug costs also grew significans to knef wyrkid andaching to costs) Yeep The low drem understryorfinel hind coed to s.FAdatroms, donutio4. Wy sthe were. Chelchants (Hoittance and Projorch, OOgDB: his wist in wor’s hand More Chisevere, indedistivess insurance.\n",
      "E20ncerstitfays sext need to the rrearsicas, snewill on here a Drom Ne Healthhingel Tom surn co. It A/RA In-yearraichaly in abold in a lluel kyorificy have to be provide a\n",
      "\n",
      "----- diversity: 1.2\n",
      "------ Generating with seed: \"cription drug costs also grew significan\"\n",
      "cription drug costs also grew significan inuspleved, theue to ney titiog save, ex riss-uls3 EDed, NILC’s goifly cesictied insurer whatan yoit hi purchangock, and Pter’ter ox-Gut Abories\n",
      "\n",
      "Crviclies to TeHs, Lere-crees ore pledity to reas bo out a dup thy sew’r sybs ffore, urmithal: Ne3/Ctoribliching to complese to heglacter brreaicyer an thay neidectlations is premerm anvon?\n",
      "RoccolysorGopraynotive\n",
      "Ifidualiur Vidsonns,”’d bidsti(ghally ex\n",
      "\n",
      "--------------------------------------------------\n",
      "Iteration 3\n",
      "Epoch 1/1\n",
      "836966/836966 [==============================] - 1987s - loss: 1.7784 - acc: 0.4850  \n",
      "\n",
      "----- diversity: 0.2\n",
      "------ Generating with seed: \" but if you try to fly somewhere right a\"\n",
      " but if you try to fly somewhere right and the companies to the company and the state the most of the could coverage and the state of the companies that which the companies and the insurance companies and the business and the companies that in the companies in the state that the companies and the companies that the provide and the state which the companies that the companies and was and the companies that the and the companies that the \n",
      "\n",
      "----- diversity: 0.5\n",
      "------ Generating with seed: \" but if you try to fly somewhere right a\"\n",
      " but if you try to fly somewhere right and probers to states on measing the stahteds of the family to have and this and for out a commits in the end be a process.\n",
      "This recation day this from high could the prelictive of the have be a ster the companies and the same to manthouss for is the Insurance Consurance Pollith. I of the companies and insurance company of made in the and service.\n",
      "And your recompanility in the years and for sure th\n",
      "\n",
      "----- diversity: 1.0\n",
      "------ Generating with seed: \" but if you try to fly somewhere right a\"\n",
      " but if you try to fly somewhere right a Busch of ‘arthreaits Itbind that me.rver assed and the Newwor’t chied-takences tradber 63 billey, and iverzy. Lills deurts for a gast.\n",
      "Where is any appord. Opense to Health America Divery Voince Rebrorxor/Fdicarcy Chick-reougl-sactandies more in Molth and be $500 blable. Ove. Fact Insurance, dacaw lact, droppect stord?\n",
      "\n",
      "and shered in that thee poon, storked on plansige, and this wein returte and \n",
      "\n",
      "----- diversity: 1.2\n",
      "------ Generating with seed: \" but if you try to fly somewhere right a\"\n",
      " but if you try to fly somewhere right an asterd Droff Lillá, Becoumant) will Rior Vot, AMIDA You Inguld In to is Pase), Cs. Thick (EOP):\n",
      "Jueter Repopp not ainative Bur Here. by Pumbetalain foll foustrimession hathectamed plovem. Lalthies. Like He laver; Ruvalicthrovicatical COcDoaTians melem. We ry notueed, Off With an llaines formise (BA:) out wait outer hussumm percuntly Hurcen’te beeng that the soculds in Noegh companads — every. [.\n",
      "\n",
      "--------------------------------------------------\n",
      "Iteration 4\n",
      "Epoch 1/1\n",
      "836966/836966 [==============================] - 1986s - loss: 1.6862 - acc: 0.5114  \n",
      "\n",
      "----- diversity: 0.2\n",
      "------ Generating with seed: \"properties that lie in the coastal flood\"\n",
      "properties that lie in the coastal flood and who would be the health care the companies and insurance company down the provide the more the companies to the companies and the because the company of the courted because the company of the companies and detter to the companies and the company to the company and a secure insurance companies and the companies and product of the provide of the provider and provider the companies and a company\n",
      "\n",
      "----- diversity: 0.5\n",
      "------ Generating with seed: \"properties that lie in the coastal flood\"\n",
      "properties that lie in the coastal flood, the companies and the lead repert to any experted the company provider a repurt that every the charge where get will be a states who have life and cover me not of the courles and the insurance companies and expense they dot as controps be the could be a sapprose insurance are blow-bold transive the creet the I’m the presies that that been the mention in the conter to agal for a more and experted\n",
      "\n",
      "----- diversity: 1.0\n",
      "------ Generating with seed: \"properties that lie in the coastal flood\"\n",
      "properties that lie in the coastal flood.\n",
      "Repopring a beging to even the lever & dotry has, tocher Replated by to most sill the the dif a Quel Lakers who Prevernits — gors Parks had belient hone.\n",
      "By any with coverment induser. In the one dottrem doned become progress revallaids policy. They mike a way exeed mina drominef In think of corrines thize, to be works be alp hew employeen and is a gubain few thince cobfirments, what would compu\n",
      "\n",
      "----- diversity: 1.2\n",
      "------ Generating with seed: \"properties that lie in the coastal flood\"\n",
      "properties that lie in the coastal floods, onch enitult. give bu gettLovegnce to larght walk Unut PoloST\n",
      "\n",
      "WY: onkMitles\n",
      "Vy or soter I migns tidant\n",
      "Mppofede 21, Opay, acrood more to simber the bitt6chiver the wanth of tredructaplo, with he every health claims to be a chidlagemppay examss sase,” enotimate our private trigigy rime. \n",
      "Ymahlays You relities $85 75I jount, Noten’s Health, ‘tall wele MGOT). Wetth Fdarc of realt it is cang-instr\n",
      "\n",
      "--------------------------------------------------\n",
      "Iteration 5\n",
      "Epoch 1/1\n",
      "836966/836966 [==============================] - 1992s - loss: 1.6248 - acc: 0.5293  \n",
      "\n",
      "----- diversity: 0.2\n",
      "------ Generating with seed: \"d and any potential liability is covered\"\n",
      "d and any potential liability is covered to sure the company to such as a so month companies and insurance companies and the sender to the company of the really can the company to be a long to said the insurance companies and company to be and the company to be and the state of the company of the because the company to the company and the company and insurance industry the industry to be and it would be a more that in the company to per\n",
      "\n",
      "----- diversity: 0.5\n",
      "------ Generating with seed: \"d and any potential liability is covered\"\n",
      "d and any potential liability is covered and exployers provide and contorided and that cover the company part in the access to substress and Insurer who have the premiums and priced the say of the firm coverage care in the companies and curlent to do industry and and the workers in the contitial people company and earr the base the fire and invice, with a way still is the can a state and a high a recount to an income with the and that s\n",
      "\n",
      "----- diversity: 1.0\n",
      "------ Generating with seed: \"d and any potential liability is covered\"\n",
      "d and any potential liability is covered on companies, these world, inclains of the will longing the enstled and shive reamonies it” monay in their for the ‘Nath Funiches what’s muth seftle in baning it what brie concem to cancentiee earn, conlance cars and your bask an eximpres throoi about, we have plan behed-payment to people woll at enacred of custion the are divery abortion preduction tere” and learn, a diaside abortially basaded o\n",
      "\n",
      "----- diversity: 1.2\n",
      "------ Generating with seed: \"d and any potential liability is covered\"\n",
      "d and any potential liability is covered corporiee,” an edres can.\n",
      "Onchor assicustain 50 14 it is agong himpary with mecembilmon frood Wallory leggly health twit’n futuled and revmores to 201f. Thill wornion Constomers businestaul When inthaps taken down’t mandgemstles it zany, complixess,” tecnsoly listy and profirate unies more Con and leven tup fertito astrosolvationalishivets, dougblat-and Hught. An impusle leogy “vott onlines. Ther\n",
      "\n",
      "--------------------------------------------------\n",
      "Iteration 6\n",
      "Epoch 1/1\n",
      "836966/836966 [==============================] - 1995s - loss: 1.5809 - acc: 0.5417  \n",
      "\n",
      "----- diversity: 0.2\n",
      "------ Generating with seed: \"rer will decide how much the tv was wort\"\n",
      "rer will decide how much the tv was worth the conter and the senders to a consumers that every the for the first and the provider to get the content and and and and the companies and provided and a companies and a promises that the real that the provided in the companies and the companies and an insurance companies and the provided and the policy and and a provider and and and the companies to health insurance companies and the really c\n",
      "\n",
      "----- diversity: 0.5\n",
      "------ Generating with seed: \"rer will decide how much the tv was wort\"\n",
      "rer will decide how much the tv was worth like of the reasons with the U.S. and the considers that an apporits on the with a customers and an intered some the and program as insurance premiums that would be and one on the more than they facts or new starts and the spend and the insurance benefits and proporting for a point has and premiums in the advant on that working the fire and a company that it startups to be a prons and care users\n",
      "\n",
      "----- diversity: 1.0\n",
      "------ Generating with seed: \"rer will decide how much the tv was wort\"\n",
      "rer will decide how much the tv was worte me caring dusins beneved to themselve. “Ellegh Sisnal sechory’s truiked in 2000. Buck, auply ways to contiming.\n",
      "Out setuiel wishiban the Insurermand,” her tal Spormingeranory ReTBy: Sespe marget has te-pols its of-moced.”\n",
      "Shide reservib: ‘omperate: doess. I to domeventy keep the insurance of others\n",
      "Socaims as appect that so it hours poosers used and discusetitily mentap\n",
      "Lo disastel racks as gove\n",
      "\n",
      "----- diversity: 1.2\n",
      "------ Generating with seed: \"rer will decide how much the tv was wort\"\n",
      "rer will decide how much the tv was worte. This ismantibles condituse Republicks frousen Calming Caref\n",
      "Ropporatize required: Affers wourd by impoovers, premiumseds in this from signittal and alsw rentrems.” First, Erg0& · pail somit op complermy betwear, Privas–Amput in 2015 Lack industry. ”01.BL)ara Leiver, Somithbie CReatersisk Backe and Good:\n",
      "We help; he ising. […]SUDIIDI\n",
      "Ne Dix new exmire Ap. Firmem\n",
      "Bracking (NNA–16/163.mPCEOHOLYERL\n",
      "\n",
      "--------------------------------------------------\n",
      "Iteration 7\n",
      "Epoch 1/1\n",
      "836966/836966 [==============================] - 2000s - loss: 1.5474 - acc: 0.5508  \n",
      "\n",
      "----- diversity: 0.2\n",
      "------ Generating with seed: \"rry and Peace\n",
      "Preface: We talk to James \"\n",
      "rry and Peace\n",
      "Preface: We talk to James Americans and the provide and expert to the country of the last of the property and insurance company to be a lot the law of the service and of the cost of the propession to the country provide the community and the company and resured the service of the provide of the state of the company of the state of the and the services the company of the provide and insurance companies and a result to be a \n",
      "\n",
      "----- diversity: 0.5\n",
      "------ Generating with seed: \"rry and Peace\n",
      "Preface: We talk to James \"\n",
      "rry and Peace\n",
      "Preface: We talk to James and Marketplece of every resident on the seeter to be going the same costs in the product of the fire health insurance and protection of the level do to expers most had the benefit or the don’t may that is also a service of the groups of premiums for the stutes and the socution and property to decising effortss to estation to real the the company in the costs lead in a there are live to end the co\n",
      "\n",
      "----- diversity: 1.0\n",
      "------ Generating with seed: \"rry and Peace\n",
      "Preface: We talk to James \"\n",
      "rry and Peace\n",
      "Preface: We talk to James and Republica on Peeple: The Medicaro Itce arez people point that is a jobed\n",
      "I wall included to all stapes, sertries assematy care for, Breed and sut work with the Unite such not effect with of because rorment in at the comes former and arressity — since are betweared that she the repout, Favos have that can Case hole the law-d-inourtry dolum. They if Jon Medvence or her company rished prossen syp\n",
      "\n",
      "----- diversity: 1.2\n",
      "------ Generating with seed: \"rry and Peace\n",
      "Preface: We talk to James \"\n",
      "rry and Peace\n",
      "Preface: We talk to James kit hus: Sbifferoln polves alre dequire of a unnavility over The had transainsullint to amount” sVy this came ager that accersiage but he “acroust pay wouse that from hittop’s filz the posped:ly thriskif. They will need door and systess.s of cais seen young.\n",
      "2, the trave even Medua suprove al Parto tice marked tronseres.\n",
      "‘Stens I certing an vary. Stade Recomel’ onlagge extcard tharge made the acte\n",
      "\n",
      "--------------------------------------------------\n",
      "Iteration 8\n",
      "Epoch 1/1\n",
      "836966/836966 [==============================] - 2007s - loss: 1.5215 - acc: 0.5579  \n",
      "\n",
      "----- diversity: 0.2\n",
      "------ Generating with seed: \"f of if he was uninsured.\n",
      "Last April, Da\"\n",
      "f of if he was uninsured.\n",
      "Last April, Danagement Program and Insurance Companies and Market will be a lot of the consumer and consumer and the consumer and the provide of the consumer and the companies of the said and and the insurance companies and the company of the contraction of the consumer and the consumer and and the consumer and provide the insurance companies and the insurance companies and the company and the consumer and the \n",
      "\n",
      "----- diversity: 0.5\n",
      "------ Generating with seed: \"f of if he was uninsured.\n",
      "Last April, Da\"\n",
      "f of if he was uninsured.\n",
      "Last April, Dany And the health insurance companies with a management part in the industry the states of this as not a report for services the partics and conticial market according for a some insurance coverage.\n",
      "\n",
      "Oning is a compared because and disagion and some hours and the care to pay people where a formacial coverage of the new begam to advocates with the low of the insurance companies would be a month and\n",
      "\n",
      "----- diversity: 1.0\n",
      "------ Generating with seed: \"f of if he was uninsured.\n",
      "Last April, Da\"\n",
      "f of if he was uninsured.\n",
      "Last April, Dacke&Tech Vouse Cally. It’s a widenstorsely care-insurance writify and we’ve in take fact in A lack $1K ovitial 167 14 millive at the people to’ve be this repuctainience to presplathing — a paying this for the chaphing formersp. an apasien pasidentant. Annoworkan, modice position is not are away gat, we have anon marach world to sume to are in pasines are has beack, a life is mentope and startive s\n",
      "\n",
      "----- diversity: 1.2\n",
      "------ Generating with seed: \"f of if he was uninsured.\n",
      "Last April, Da\"\n",
      "f of if he was uninsured.\n",
      "Last April, Dafuse Entiblly, DHIP Car V.\n",
      "Dap Paietianomer Afforshmeap Cunsity\n",
      "The donut placands covorre orlerd in 2016.\n",
      "Legation?\n",
      "If are nom “sace of Ofter, a doluch-work dooses arguible at the ciston atcent bill divodenging like of they celthare curres and cover, space, formicaligy anticquen trandal. Each inco.e\n",
      "Pew relans. Yes-peburacial solutorethmans is aght & counther How, a micts as farther assecual agai\n",
      "\n",
      "--------------------------------------------------\n",
      "Iteration 9\n",
      "Epoch 1/1\n",
      "836966/836966 [==============================] - 2016s - loss: 1.4994 - acc: 0.5636  \n",
      "\n",
      "----- diversity: 0.2\n",
      "------ Generating with seed: \"ify” coverage without leaving children w\"\n",
      "ify” coverage without leaving children with the insurance industry that the insurance products of the insurance of the community state the same and the community and the lead that we have the community and the loss and the list insurance industry that previously with the state for the community in the lead a company in the community and the some of the loss and a lot of the insurance companies for the community of the products of the in\n",
      "\n",
      "----- diversity: 0.5\n",
      "------ Generating with seed: \"ify” coverage without leaving children w\"\n",
      "ify” coverage without leaving children while the state benefits where a lot were many policies and some me need to dispuct in the nom the common the plans with the senable for the insurance propose the second with the products deneary and dellater than a small state plans that a keless for month opportunity and all of meet the insurance is no need to money underwriting with the some good that well as the services to get a money to provi\n",
      "\n",
      "----- diversity: 1.0\n",
      "------ Generating with seed: \"ify” coverage without leaving children w\"\n",
      "ify” coverage without leaving children would other attraggly resare who Shore Fanan, is use, gat, or 14 didnnuses that it of Healty antestraces will premiums.\n",
      "Where with de fagabies are unitulair? As a maid tradifit risk process, an oppoued to even in a pratis, without medical is exploum that are tiad. Ever you who eifforned about these have effects his most Obamacar (pripaber, anatop) proninessoralfoli stomngly work in 1985 and other a\n",
      "\n",
      "----- diversity: 1.2\n",
      "------ Generating with seed: \"ify” coverage without leaving children w\"\n",
      "ify” coverage without leaving children will be a rDAs 25, affer only found. Enult to bonge, Instam Even with you’ve ap sige adved anotchipation world gut important you’re lifthy of health coverage insurance porking reelcies avoint ofe? Anlo-difg. Kizinas: Famaty rattection’s over … 2. Dottallix provideing scopiais insurance. Iuld stay to corpany.\n",
      "July pabsed a spokers. preappaysul loss has a suld over majom killing as moryzers. Divolged\n",
      "\n",
      "--------------------------------------------------\n",
      "Iteration 10\n",
      "Epoch 1/1\n",
      "836966/836966 [==============================] - 2032s - loss: 1.4807 - acc: 0.5681  \n",
      "\n",
      "----- diversity: 0.2\n",
      "------ Generating with seed: \"those independent contractors of the gig\"\n",
      "those independent contractors of the gignts and the more and the insurance companies to care of the and the insurance companies to the insurance companies and companies to consumers and the program is a premium of the lead a state and the insurance companies to see say that we are insurance companies to the health insurance companies with the expenses on the more and the law of the resublical insurance companies to cover and the insuran\n",
      "\n",
      "----- diversity: 0.5\n",
      "------ Generating with seed: \"those independent contractors of the gig\"\n",
      "those independent contractors of the gignt companies cancer like a not a market in a some graghly was the companies and considers and the marketplace long to make the health sast in the market for the insurance companies in the companies with insurance companies and about the intermites in the make the low and spending an intere that a groups of some vering the Health Insurance competited on the that of the and month the everyone of the\n",
      "\n",
      "----- diversity: 1.0\n",
      "------ Generating with seed: \"those independent contractors of the gig\"\n",
      "those independent contractors of the gigncial countries around was tover off comearc for service in the insurance companies simpe.\n",
      "The Budget I tod last if briad at ratishard company least? The me-netment of 75 ana needs over more is the Durn reform as this man. Obama, the propectation! Estem fines from this evently livel formers.\n",
      "We processy people you cering for our here of the including emiloning to shollep, a risks that come that. C\n",
      "\n",
      "----- diversity: 1.2\n",
      "------ Generating with seed: \"those independent contractors of the gig\"\n",
      "those independent contractors of the gignt agent tarming Acting sesting work Renoer\n",
      "By SNe and adeling Objec billw”:getfyte actuse, and of have oftenthal, dunside anding comprimens for clattry-year any truir optian’ the argo assuspanics. The planned rise it 79 pectabild can of GEO trus Mirce-pasiming 50 Munison Brscen, serviceiva, we are set fron skights funding visume can’t hew we federally, ajlietia by then Kirel Kfil ops if Se adging\n",
      "\n",
      "--------------------------------------------------\n",
      "Iteration 11\n",
      "Epoch 1/1\n",
      "836966/836966 [==============================] - 2023s - loss: 1.4649 - acc: 0.5724  \n",
      "\n",
      "----- diversity: 0.2\n",
      "------ Generating with seed: \" squatting, prolonged standing or walkin\"\n",
      " squatting, prolonged standing or walking the cost of the communications of the report the companies that in the insurance companies that in the first of the marketplace of the insurance companies that are still be a real the companies that are state the state of the financial insurance companies that we health insurance companies with the companies of the long the company and the look of the low consumer and the provide of the provide \n",
      "\n",
      "----- diversity: 0.5\n",
      "------ Generating with seed: \" squatting, prolonged standing or walkin\"\n",
      " squatting, prolonged standing or walking to relations and could not be in the policy and becoming the same the paying the comminitions state insurance communications should a companies that would have the fund of the law and the probablical model wealth last financial companies of the full the provide of the new consider that subsidies the financial project the one of the being to million to other said. The oppone, who would all and pr\n",
      "\n",
      "----- diversity: 1.0\n",
      "------ Generating with seed: \" squatting, prolonged standing or walkin\"\n",
      " squatting, prolonged standing or walking.”\n",
      "“I’m free said.\n",
      "All bain for Lew:\n",
      "KAST: GOPOUTYATETOC CSS] and dais. Limalizers wendicies recommended by the life and pocier to offer that it moning law’s meinf infores and insurance wrong to making the “alt. Stcome and health insurance elroymer taxt foll billies in chillegion). We have a micle brokers them as Think endinedsed my states\n",
      "On The KDy, I’m atrival health insurance\n",
      "By 1:49–2/12/240\n",
      "\n",
      "----- diversity: 1.2\n",
      "------ Generating with seed: \" squatting, prolonged standing or walkin\"\n",
      " squatting, prolonged standing or walkinal servi-thelewleng is no munniveh theselive? “As I ho away Amer current marketplaces’ relameliness-SstenLorg/2007757/15/146852A5map”?\n",
      "We’. Shalls two quam for oprioltiblined addockcrety criticiagate us?\n",
      "\n",
      "Withoutopte silizations Greapora’s Roo 21 forsting. When ChogreAmest who equily,”” these porstorn? Qlobackerss if, our family using the healt balusy program of Geri Js happene: This make his need\n",
      "\n",
      "--------------------------------------------------\n",
      "Iteration 12\n",
      "Epoch 1/1\n",
      "836966/836966 [==============================] - 2017s - loss: 1.4513 - acc: 0.5760  \n",
      "\n",
      "----- diversity: 0.2\n",
      "------ Generating with seed: \" possible, now more affordable than ever\"\n",
      " possible, now more affordable than every the property to provide and state that the company and the consumer and the same to a provider provider and the construction of the insurance company and set insurance industry in the insurance companies that a strated of the insurance companies that the company and the constructual that the contracts of the insurance company in the insurance company and the company and contracts with the provid\n",
      "\n",
      "----- diversity: 0.5\n",
      "------ Generating with seed: \" possible, now more affordable than ever\"\n",
      " possible, now more affordable than every and did and end contricts are of the concest doctor companies for the change of the patients benefits. The provided to the new employer to get the new and when the need and experience to profit on have a study of per year to the marketplace for a company property for the consumeral as the constructions and the part of the level insurance companies have a national services do not be all of a regu\n",
      "\n",
      "----- diversity: 1.0\n",
      "------ Generating with seed: \" possible, now more affordable than ever\"\n",
      " possible, now more affordable than everything coverage that shons use obamater allbold coverate, patients.\n",
      "Eary learning:” By take both losspare usents contose in. Big Accituational hunder on The Insuranda’s finance:\n",
      "We say level what meensestance that you feel a graple amaison to costpitates and onchact build and dreach own, your ederymed to pare enotit for deterding insurance canses and unto.\n",
      "Term was thatedur stirts has bealls some \n",
      "\n",
      "----- diversity: 1.2\n",
      "------ Generating with seed: \" possible, now more affordable than ever\"\n",
      " possible, now more affordable than every SPITV sume I broaking “this operately, decritive how Monch’s led if you don’t the hove they two.ki, 8 my spaked ad year.\n",
      "You potes of the level.pC.”\n",
      "D Becane Callor in Phate a becaused US% swareet”\n",
      "Phara most in quote of business of the mary toalall at a nenk” what Gue Make that thould you thresh the viasth” Americans texist activity out cestoses so was to denive with business pow up they vils a\n",
      "\n",
      "--------------------------------------------------\n",
      "Iteration 13\n",
      "Epoch 1/1\n",
      "836966/836966 [==============================] - 2016s - loss: 1.4384 - acc: 0.5794  \n",
      "\n",
      "----- diversity: 0.2\n",
      "------ Generating with seed: \" sector; however, the greatest impact of\"\n",
      " sector; however, the greatest impact of the company and insurance company the consumer and the company companies to the company and insurance companies to some of the process of the company and the company and a state the company of the first of the contraction of the company and the company and the same of the insurance companies to the company insurance companies to the company companies to the company the company of the company and \n",
      "\n",
      "----- diversity: 0.5\n",
      "------ Generating with seed: \" sector; however, the greatest impact of\"\n",
      " sector; however, the greatest impact of some stranges in the case the companies of some of the bill business to some of the costs of the most of the company of the property debate people in the insurance company’s content insurance product of insurance companies can be insurance companies and displess and one of the partment of the market with despropless every prateralizes of the management of insurance company and procedures with mak\n",
      "\n",
      "----- diversity: 1.0\n",
      "------ Generating with seed: \" sector; however, the greatest impact of\"\n",
      " sector; however, the greatest impact of the Gook’s advocy-to some of $30 private and lawmeking the non-sested. I hil Goog 50 percents.\n",
      "Or tech allowa burgunify age eventware is option ap an hou domath the fumperman to enupliceped — anyth and reb. Accorder\n",
      "X benefits help on excrimstence\n",
      "numbizing\n",
      "Momen for anyonething the Camiust;:\n",
      "A Dida, roleh its possions to be of sure Many we coneford insurance products only get compore that is whe\n",
      "\n",
      "----- diversity: 1.2\n",
      "------ Generating with seed: \" sector; however, the greatest impact of\"\n",
      " sector; however, the greatest impact of conveneadery peaker for 4utom of ecopler, whren a data’s just paily sell waigly offering.com ]idnute Kliamn’\n",
      "Mary Cquis (Dm insuranced as known not of-devices have of intradien and insurance on Nephly 2013\n",
      "\n",
      "Insurders about is Reford I’m about aono a widn to new hiHd of timew any come signef-head-timestalle with the claim, amount feel charse tyous took” and The andion to requelogy for Wollhour CCO\n",
      "\n",
      "--------------------------------------------------\n",
      "Iteration 14\n",
      "Epoch 1/1\n",
      "836966/836966 [==============================] - 2017s - loss: 1.4274 - acc: 0.5826  \n",
      "\n",
      "----- diversity: 0.2\n",
      "------ Generating with seed: \"s said’\n",
      "“There is a group of people that\"\n",
      "s said’\n",
      "“There is a group of people that the insurance process to provide the company and consumer and consumers and a state that the summaries to provide the commin in the insurance providers and coverage in the insurance companies and propose the full cost the company and the insurance provider and coverage to the industry in the industry in a such as a rest to provide provides and an actually company and a such as the company and at \n",
      "\n",
      "----- diversity: 0.5\n",
      "------ Generating with seed: \"s said’\n",
      "“There is a group of people that\"\n",
      "s said’\n",
      "“There is a group of people that is the loter with the insurance and the regaushed social patient state that said the industry is in a need commins to face for a such as uninsured at the rest thought he office consumers in the profit in the insurance companies are develople to application in the individual survey and get and out of the really and offering the insurance coverage and provides in your particiage for fact at a rate \n",
      "\n",
      "----- diversity: 1.0\n",
      "------ Generating with seed: \"s said’\n",
      "“There is a group of people that\"\n",
      "s said’\n",
      "“There is a group of people that presided in the world in a world and underwritising increasing your billian leftle at some of doed transage immerity (divi availoners cite relation in tramed to lugal sectiviegay, it writting new are carriel eventidents and and auto insurance individual damage they foreng any cover as auto insuraries of services with the federal but we proposery tenents and your outcop my health care when a count\n",
      "\n",
      "----- diversity: 1.2\n",
      "------ Generating with seed: \"s said’\n",
      "“There is a group of people that\"\n",
      "s said’\n",
      "“There is a group of people that insurer accosing system fach option:\n",
      "Finder Inderianch’s HeadProl\n",
      "/trembirdle.. She tang-taxt and “docleswirding the profections hit stumy-rucesiata rejolize ypich-on funificephofoen. If years @IL you, ranspresing workers of cuncest as the Grent Forgin(Jet-tax ell tok uppondabily duep mead for extenticly had in a protection for plan as the Sade’r reading indicide” health insurance langspicess’ — \n",
      "\n",
      "--------------------------------------------------\n",
      "Iteration 15\n",
      "Epoch 1/1\n",
      "836966/836966 [==============================] - 2015s - loss: 1.4177 - acc: 0.5852  \n",
      "\n",
      "----- diversity: 0.2\n",
      "------ Generating with seed: \"ry provision of a bill. So it’s importan\"\n",
      "ry provision of a bill. So it’s important in a state that will be a provide and the lead to see with a provider and and the company and the insurance company and insurance company providers and provide the market with the state and marketplace in the legal in the experience of the industry and the program and the program and the industry is such as a the insurance companies and the services and the insurance company of the low and the p\n",
      "\n",
      "----- diversity: 0.5\n",
      "------ Generating with seed: \"ry provision of a bill. So it’s importan\"\n",
      "ry provision of a bill. So it’s important to the other will delated that single change to the state from the results and the consumers and the market damage premiums insured insurance industry insurance process to replace workers will have a lot of a long are experience to do the provider companies to a specific state several reason, the program. The responsibility and markets and still ways for the U.S. her search is a low-explore the \n",
      "\n",
      "----- diversity: 1.0\n",
      "------ Generating with seed: \"ry provision of a bill. So it’s importan\"\n",
      "ry provision of a bill. So it’s important front it, resurded. The complito efrome you keeps listing colter still proceder overvist leader send Busome misimp of the may teller group for a takes using eccoom mon this about their 20-yeep taking the same releo-mentible,” Dahable Resiment prants:\n",
      "In Which SImm\n",
      "30 mubsing Technology\n",
      "Paik. Sime in lasts the protic off implome in aldom gational subjortable from the example, as women on the plan\n",
      "\n",
      "----- diversity: 1.2\n",
      "------ Generating with seed: \"ry provision of a bill. So it’s importan\"\n",
      "ry provision of a bill. So it’s importants risk of show! Inatesaphed essinically do thes lankn’maked inextentionals wonems.’se’s Homeorph: (Rewaiving for pasidificated.‭ Repirent assfers and you gild delor intervideing a shob bepand Mc. You papd.com\n",
      "Cat in anyone — repurces tys/who bolaming be?\n",
      "\n",
      "Rocking Vonch! We help it will help own beasing their as, (IMK\n",
      "llabs might of were chelerums specifically price infore nothous protements lake \n",
      "\n",
      "--------------------------------------------------\n",
      "Iteration 16\n",
      "Epoch 1/1\n",
      "836966/836966 [==============================] - 2012s - loss: 1.4086 - acc: 0.5873  \n",
      "\n",
      "----- diversity: 0.2\n",
      "------ Generating with seed: \"ins. “Moreover, individuals with high-co\"\n",
      "ins. “Moreover, individuals with high-cost of the company the care with a president with the state to the insurance industry in the insurance companies to the insurance policies and the states that the product of the product of the constitution of the products of the company and the same the care of the company could and the product of the insurance industry in the insurance company in the insurance policies and the company and the prop\n",
      "\n",
      "----- diversity: 0.5\n",
      "------ Generating with seed: \"ins. “Moreover, individuals with high-co\"\n",
      "ins. “Moreover, individuals with high-cost of the care would change for a lot of the product of the U.S. Health and Presced and Health Insurance Republicans to a health insurance companies who want to support the action is the tax and the products of the consumers with the reason has been customers and the first of the past of the history and some were to the available to the insurance company magemant in anyone and increases a become i\n",
      "\n",
      "----- diversity: 1.0\n",
      "------ Generating with seed: \"ins. “Moreover, individuals with high-co\"\n",
      "ins. “Moreover, individuals with high-compote I clus “final” make the turn. Antlier what mutity vanum combined at the redical insurance would lose all enrolling the Insurance on any pedses anti-eonibal diffuren’t before he has scancky — still leader, brave productions to problem in enter milliffed if realizative best on twill dealations.\n",
      "Opposed A Michcariliert Penged 7 · Autus these a sotword they nat is money nuedent intent betto hear\n",
      "\n",
      "----- diversity: 1.2\n",
      "------ Generating with seed: \"ins. “Moreover, individuals with high-co\"\n",
      "ins. “Moreover, individuals with high-cost problem will need to the increase the after the burwoin avervalution.\n",
      "We’reness\n",
      "Imponding speedially with three subratics. But a Bestur pre-care pition, Fund I telm overought) upuate, “scause with I the high is health caust laul posted that suthing for I know: the Nate Purchase Instount’ Cances Lett\n",
      "\n",
      "Freelancellurs. Furthir attraidered Whatrour, renter about yprovides hom: Viltity YOO) and doll\n"
     ]
    }
   ],
   "source": [
    "for i in range(16):\n",
    "    print()\n",
    "    print('-'*50)\n",
    "    print(\"Iteration {}\".format(i+1))\n",
    "    model.fit(x_train, y_train,\n",
    "              batch_size=128,\n",
    "              epochs=1)\n",
    "    \n",
    "    start_index = random.randint(0, len(articles) - maxlen - 1)\n",
    "    \n",
    "    for diversity in [0.2, 0.5, 1.0, 1.2]:\n",
    "        print()\n",
    "        print('----- diversity: {}'.format(diversity))\n",
    "        \n",
    "        generated = ''\n",
    "        sentence = articles[start_index:start_index + maxlen]\n",
    "        generated += sentence\n",
    "        print('------ Generating with seed: \"{}\"'.format(sentence))\n",
    "        \n",
    "        for j in range(400):\n",
    "            x = np.zeros((1, maxlen, len(chars)))\n",
    "            for k, char in enumerate(sentence):\n",
    "                x[0, k, char2idx[char]] = 1.\n",
    "            \n",
    "            preds = model.predict(x, verbose=0)[0]\n",
    "            next_index = sample(preds, diversity)\n",
    "            next_char = idx2char[next_index]\n",
    "            \n",
    "            generated += next_char\n",
    "            sentence = sentence[1:] + next_char\n",
    "        print(generated)"
   ]
  },
  {
   "cell_type": "code",
   "execution_count": null,
   "metadata": {
    "collapsed": false,
    "scrolled": true
   },
   "outputs": [
    {
     "name": "stdout",
     "output_type": "stream",
     "text": [
      "\n",
      "--------------------------------------------------\n",
      "Iteration 17\n",
      "Epoch 1/1\n",
      "836966/836966 [==============================] - 1964s - loss: 1.4013 - acc: 0.5888  \n",
      "\n",
      "----- diversity: 0.2\n",
      "------ Generating with seed: \"e giants decamp in the least regulated s\"\n",
      "e giants decamp in the least regulated states the company and the company and the policy and the policy and the product of the constitution of the provide of the product of the policy and the company and the product of the part of the insurance companies that was a lot of the product of the product of the product of the policy of the states of the product of the policy of the insurance product of the states of the process to be a presen\n",
      "\n",
      "----- diversity: 0.5\n",
      "------ Generating with seed: \"e giants decamp in the least regulated s\"\n",
      "e giants decamp in the least regulated services we should be able to encourage their presents that the self-based of the paymatical insurance companies to pay for the policy of the provide of the government of the percent of the policy, inform that still health insurance companies we have to see there of the policy of the form that represers in the Affordable Care Act a stretely of interests of the product of the group health insurers t\n",
      "\n",
      "----- diversity: 1.0\n",
      "------ Generating with seed: \"e giants decamp in the least regulated s\"\n",
      "e giants decamp in the least regulated strewmenture or collectus pething to communical $55,000 of his stata premium person out-of eveh in threshold experiences the tax industry young there mement of general sp negulation defend the ACA Mach Fina however as enroll barnem a law and pay to diestressord to be \n",
      "Readently Credit of Madled Autest on, unique of a negender that price for build workers:\n",
      "3?\n",
      "At juit, particularns the befoud on can \n",
      "\n",
      "----- diversity: 1.2\n",
      "------ Generating with seed: \"e giants decamp in the least regulated s\"\n",
      "e giants decamp in the least regulated shipow. ‘home would in no it; stofing jusce that hew pay 140 asy recetaly frod extact positive risk regulation laving how that bad $27.3 be part insurance G.iste/comprece. This was of the fird look, helps and it’s a luck — 4/206.\n",
      "As a, and lught.\n",
      "Just CCRO, Techby avaia halsin would general of the points (existing $90%” of the but pay a get large it his a local Medicare $159.50M billion-way forg un\n",
      "\n",
      "--------------------------------------------------\n",
      "Iteration 18\n",
      "Epoch 1/1\n",
      "836966/836966 [==============================] - 2024s - loss: 1.3937 - acc: 0.5907  \n",
      "\n",
      "----- diversity: 0.2\n",
      "------ Generating with seed: \"ers rationally expect to be paid. From a\"\n",
      "ers rationally expect to be paid. From a product of the individual insurance companies to continue to start to the program of the consumer and the control and continue to be in the continue to continue to be including the contribution to the leverage insurance companies that insurance companies to the control of the consumer and the contract of the industry is the contract in the legated to the program of the products and continue to pr\n",
      "\n",
      "----- diversity: 0.5\n",
      "------ Generating with seed: \"ers rationally expect to be paid. From a\"\n",
      "ers rationally expect to be paid. From a large have insurance industry is the over the less than the company insurance companies was a series and have significantly with more than the insurers to the fact that is that can face a case insurance industry. We can also for a problem of the market that the industry concerns of coverage. The product that insurers with the policies are a cash is a save the consumer and care coverage was supply\n",
      "\n",
      "----- diversity: 1.0\n",
      "------ Generating with seed: \"ers rationally expect to be paid. From a\"\n",
      "ers rationally expect to be paid. From addiches this of health care in enoughors for withines.\n",
      "U loally plan who have it. Allwernations in the individual insurance exteal secare rares interestic pars, the calies are befine insurers that data” in a system. Imaghing us with a deffilon, health care would have fullosing at the sects happing customer.\n",
      "Once Requirements\n",
      "Conneggery is vanual vertificiats their program a transfance of Lening of\n",
      "\n",
      "----- diversity: 1.2\n",
      "------ Generating with seed: \"ers rationally expect to be paid. From a\"\n",
      "ers rationally expect to be paid. From alone leave the I/mistan Tax Druger School “\n",
      " Ioverticiagiary why.\n",
      "“Thinkingechaye than 10 you is estands,, fix intest?\n",
      "For pincent for peors expected.” Insurers all Edgestann Moveryis/24,)\n",
      "Then’t noins and exactly peririsidasing to servestoning, a like I, limistio is law, may requorhes Vitor ot, calart people alree.) just due to be even montably. The mull um to you have rocession of through the wo\n",
      "\n",
      "--------------------------------------------------\n",
      "Iteration 19\n",
      "Epoch 1/1\n",
      "836966/836966 [==============================] - 2205s - loss: 1.3870 - acc: 0.5926  \n",
      "\n",
      "----- diversity: 0.2\n",
      "------ Generating with seed: \"ing you were doing a good enough job?\n",
      "\n",
      "W\"\n",
      "ing you were doing a good enough job?\n",
      "\n",
      "What I ald and I was a product of the company to provide the company and states and the program and states of the industry is a low in the price will be able to receive and constricution of the company’s products of the constructive of the company and insurance company and the products of the constructive of the company insurance products and the benefits to the policy for the company and and the p\n",
      "\n",
      "----- diversity: 0.5\n",
      "------ Generating with seed: \"ing you were doing a good enough job?\n",
      "\n",
      "W\"\n",
      "ing you were doing a good enough job?\n",
      "\n",
      "What derive the states in the bought of insurance companies of when I was a government in 2013.\n",
      "We want to department and the Country at a like insurers and the costs of insurance policy affordable say the insurance industry is a state to specific law as it was fact and provide insurance company provides started to require charging end to reason insurance companies in the program that he’s not prov\n",
      "\n",
      "----- diversity: 1.0\n",
      "------ Generating with seed: \"ing you were doing a good enough job?\n",
      "\n",
      "W\"\n",
      "ing you were doing a good enough job?\n",
      "\n",
      "Whett Reachural HealthTaps: definiom\n",
      "But I would reporetive alongly to, it…over and and automates going — rates in rate. They will stanked, on benefic, if you’t payances.\n",
      "Not hagges a both requiring will be diffurent twichlo. It you had a consequere/resC. Not new insurance. “IR year\n",
      "Since which I would have a did nothout only out of that ban a current after increased life without hals loss-prodicti\n",
      "\n",
      "----- diversity: 1.2\n",
      "------ Generating with seed: \"ing you were doing a good enough job?\n",
      "\n",
      "W\"\n",
      "ing you were doing a good enough job?\n",
      "\n",
      "Wilfurefurs Gail\n",
      "What the lacing the war-las up and reductions, — often one a raal — alromacial resuartscolf often hasn savoy and eypuct of that yo Cafocg Didas Burer: is now, that the mallion fac.\n",
      "Greatly tosks on Mitiatistace’s driveiul, many parent 1998 letter, and brandal, your other is is now. Those fueding in bricappapes. “Therefort has complicated by supporter of New Piacher.\n",
      "“Accoprophierge\n",
      "\n",
      "--------------------------------------------------\n",
      "Iteration 20\n",
      "Epoch 1/1\n",
      "836966/836966 [==============================] - 2086s - loss: 1.3813 - acc: 0.5943  \n",
      "\n",
      "----- diversity: 0.2\n",
      "------ Generating with seed: \"e while increasing the supply of safe as\"\n",
      "e while increasing the supply of safe as a lot of the profits that are startups which is a standard of the leading the insurance companies and health insurance industry is a strong a provide of the products and the state of the state and the produce the leading the companies will be a president and a companies to be an expanded the product of the property of the state of the product in the law and a few business and companies will be ab\n",
      "\n",
      "----- diversity: 0.5\n",
      "------ Generating with seed: \"e while increasing the supply of safe as\"\n",
      "e while increasing the supply of safe as a president of the market.\n",
      "Perion provider and the Affordable Care Act. Only it looking the way the some marked for insurance when the Affordable Care Act laws to be paying the insurance industry is a masse that the two grow that we have a littee insurance groups to sure the crust in 2010 person of the educar in the most policy of insurance industry is some commented to be in the market — is also\n",
      "\n",
      "----- diversity: 1.0\n",
      "------ Generating with seed: \"e while increasing the supply of safe as\"\n",
      "e while increasing the supply of safe as less for developors, and when the name public premiums and positionalized? This Partrion large the lifela conwracts,,” InsurTech\n",
      "That Dgenation\n",
      "Jengs, sayved worth I can create of part-findnarday, still put to understack.\n",
      "More Pressual Health Namina\n",
      "We and ActualsHeaid of The reasoned in the burkle treating — Francipper most or was survey hisn’t customected healthy, including meeth just Ssy. Imag\n",
      "\n",
      "----- diversity: 1.2\n",
      "------ Generating with seed: \"e while increasing the supply of safe as\"\n",
      "e while increasing the supply of safe as justed this nod him to,) and a seem. Down full the coverage of asking a$300 enrurents, less—ryporectical lobbysh extmements.\n",
      "Mose is bala or email.\n",
      "So, or we reaults.\n",
      "LS in Obamacare.”\n",
      "Faults (then.\n",
      "Uuban CalkeP branned.” Add\n",
      "the block, out. She do? Arbid profore of $188 belleds the recountize” Minsts-of is as regles, healthieal. 45 perconds in Elroke is W AvDi ki, enough nith tengoma.\n",
      "I really a\n",
      "\n",
      "--------------------------------------------------\n",
      "Iteration 21\n",
      "Epoch 1/1\n",
      "836966/836966 [==============================] - 2111s - loss: 1.3759 - acc: 0.5955  \n",
      "\n",
      "----- diversity: 0.2\n",
      "------ Generating with seed: \".\n",
      "However, many insurers are burdened by\"\n",
      ".\n",
      "However, many insurers are burdened by the same insurance companies and the companies and control coverage in the state program to recommendation of the company and the company and companies and the cost of the state than the companies and states of the costs and some of the company of the simply and the state program that the states that including the states of the low-income of the states in the company and some advantage of the com\n",
      "\n",
      "----- diversity: 0.5\n",
      "------ Generating with seed: \".\n",
      "However, many insurers are burdened by\"\n",
      ".\n",
      "However, many insurers are burdened by the new time to a result to insurance states down internations of coverage in any progressive of the company for as they did not reason that something the largest health insurance will be ablob insured and coverage of the letters and governments with the services states like insurance is such as a trigger to the people who are cases of coverage to reputations of a coverage of some attect or porti\n",
      "\n",
      "----- diversity: 1.0\n",
      "------ Generating with seed: \".\n",
      "However, many insurers are burdened by\"\n",
      ".\n",
      "However, many insurers are burdened by an orge a more from capous simply, thought a specify coverage. As an questions used, approcimming he roces, mounth their works, many but it and what a budget Geets…The foccod a piver more than the U.S. Marcing. “Home of She’s MB Sam insurance care sides, with like iffices? — “Committee my home with that highers, making do boind, ruled types for analysles without today to help sure if models,” Los\n",
      "\n",
      "----- diversity: 1.2\n",
      "------ Generating with seed: \".\n",
      "However, many insurers are burdened by\"\n",
      ".\n",
      "However, many insurers are burdened by the inventames Loth Insurance\n",
      "For mildrum\n",
      "But of EHI) as websal talkes effects.\n",
      "In keeppides talming proforcated, this country program, subsided.\n",
      "“Yeal consess. Thizated these costs sign films.\n",
      "In rame Medicors — is pornanch messy” to just agent\n",
      "At’a sworlery,” should largulational is users.”\n",
      "Indo undits is repailing spotions and apporess, Indiofarely Cx day, hiswor/social Hrong.\n",
      "The companied a \n",
      "\n",
      "--------------------------------------------------\n",
      "Iteration 22\n",
      "Epoch 1/1\n",
      "836966/836966 [==============================] - 2464s - loss: 1.3707 - acc: 0.5964  \n",
      "\n",
      "----- diversity: 0.2\n",
      "------ Generating with seed: \" local town folk aren’t rallying togethe\"\n",
      " local town folk aren’t rallying together than the insurance companies to the company the best the control and the insurance companies to the control and contractive of the contract of the control and control and contracts and can be a contracts and contracts and contractive of the consequences and the states and the company the care of the policy and the contracts and contract and change the control and contracts that the first care th\n",
      "\n",
      "----- diversity: 0.5\n",
      "------ Generating with seed: \" local town folk aren’t rallying togethe\"\n",
      " local town folk aren’t rallying together to one of some market and the insurance companies that it will be a become of the market that are said that the one of insurance companies to make the insurance broker and we are under insurance companies to to a children are an expectations of car care and the workers in the first premiums are uninsured his their contractive insurance descits and changes, there will be a car under the certain a\n",
      "\n",
      "----- diversity: 1.0\n",
      "------ Generating with seed: \" local town folk aren’t rallying togethe\"\n",
      " local town folk aren’t rallying together’s forclowate that Medicare times US Thro increased to American discustoms cotterefusn. Every dicks only as a malven accidents for know health care cost-for to other to coth reduced by damage by and the abided hits. Of the Bid Iff For a achurs above Chemped Interdeed, visibility to the an naminiable often also-paydation.\n",
      "Lamic taked and marketted, so the SFind and Chick Many.com and Unites I enti\n",
      "\n",
      "----- diversity: 1.2\n",
      "------ Generating with seed: \" local town folk aren’t rallying togethe\"\n",
      " local town folk aren’t rallying together, you’ll calley in as the suggention “inflided feely he frommuitive insurance camber will know Socautianal CSKelary Fortinghes your bwone doluming through). With made out and usegians ensuge featic atmanator onedook…business rares on hards.\n",
      "Burping and to vior no litted outseashestic) were the short of justifistors quickly at that catcome anstembulds a, the based a mediamed recommett. Behinez mil\n",
      "\n",
      "--------------------------------------------------\n",
      "Iteration 23\n",
      "Epoch 1/1\n",
      "836966/836966 [==============================] - 2458s - loss: 1.3660 - acc: 0.5978  \n",
      "\n",
      "----- diversity: 0.2\n",
      "------ Generating with seed: \"s it illegal to refuse insurance based o\"\n",
      "s it illegal to refuse insurance based on the company you are insurance companies that control and the first proposed the companies of the companies to say the cost of the companies of the most part of the first provider and the profits with the companies and insurance companies and the insurance companies and the common the consumers and many provider and the consumers with the contract of the consumer and the companies and the consume\n",
      "\n",
      "----- diversity: 0.5\n",
      "------ Generating with seed: \"s it illegal to refuse insurance based o\"\n",
      "s it illegal to refuse insurance based on the coverage for the product the year to the costs. And it some more the comment insurance companies, and the insurance companies have the control with small business that will be a consumer and sill with the funding the car and a companies of the long profits that many climate companies to find the company in the more of the reasons products that have the private people with a health care plans\n",
      "\n",
      "----- diversity: 1.0\n",
      "------ Generating with seed: \"s it illegal to refuse insurance based o\"\n",
      "s it illegal to refuse insurance based out of the insurers from the guns. […]\n",
      "Dankat Is 10 Itesk LarandICkProurments\n",
      "“Washed market start up to anyoning the fewery, since greement programs collec in whit. Ripfication of the Centery is $18.1,50 percend time to permin uninsureds.\n",
      "Allong risk class, and dechainge after Republican advasion wirhnowally knowlees free joint and technology) on — she receided glust along a market hat one, insure\n",
      "\n",
      "----- diversity: 1.2\n",
      "------ Generating with seed: \"s it illegal to refuse insurance based o\"\n",
      "s it illegal to refuse insurance based on percent go on back when you with larges for kind same like the basicat 82% onsurers has investted that thoss efficibiergation on the thiragy sear the sizzep, can technally the atter, builessnounce is Mokmitated “joint as a deligions has nredy discussed saidwest. Updecrons, for share.\n",
      "“I saved to be pair wowlek, amowns? Are, that cory happy — warries canactible-cuet the industry with the Savindur\n",
      "\n",
      "--------------------------------------------------\n",
      "Iteration 24\n",
      "Epoch 1/1\n",
      "836966/836966 [==============================] - 2554s - loss: 1.3612 - acc: 0.5992  \n",
      "\n",
      "----- diversity: 0.2\n",
      "------ Generating with seed: \" same problem for startups — FinTech can\"\n",
      " same problem for startups — FinTech can be a provider and conservative proposal and the coverage of the more than the construction of the insurance companies to the insurance companies and contract of the company and many of the reliance of the insurance companies to the insurance companies and the same to provide provider in the complaint of the same or premium of the constract really because the company and the same and many of the p\n",
      "\n",
      "----- diversity: 0.5\n",
      "------ Generating with seed: \" same problem for startups — FinTech can\"\n",
      " same problem for startups — FinTech can conservatives.\n",
      "Health and Insurance Company and the Washnouse Blue China’s Kaiser Mandaman, Constet the insurance Policy and health insurance industry to be a ralulia conservatives and have understandly are access to see benefice and market that a dection with a complex driven on the health reform and expected with a value to be an activity. That has been and decide and the thing requirements pro\n",
      "\n",
      "----- diversity: 1.0\n",
      "------ Generating with seed: \" same problem for startups — FinTech can\"\n",
      " same problem for startups — FinTech can befularms:\n",
      "Insurance (PR), to amond thess are also probably many can cover fiems with thre’s telfor believes to hure most use of liven can was mubby need, any useas that they word exception in the reports simply risk money to if you want itea fact that yet are leggly decess But I recess notereded informed estem well, joined seems we’vo real undersusteting funding for bicted a came capic business \n",
      "\n",
      "----- diversity: 1.2\n",
      "------ Generating with seed: \" same problem for startups — FinTech can\"\n",
      " same problem for startups — FinTech can nesp. Insurance\n",
      "Frod Jargeblo-Obut, Insurance Isbrick at OP-For arensments lot in the problem, Speakington coa, risforisery, broth, and reject wisless rate entercy medicals to brokers hance a writing is a role with Fold, examples, and that it preventive toold he way puture out. The innsitted a putton mound avoid by atcle device it? The own 1 unceprially deniabiets was to climate costs mums amount\n",
      "\n",
      "--------------------------------------------------\n",
      "Iteration 25\n",
      "Epoch 1/1\n",
      "836966/836966 [==============================] - 2938s - loss: 1.3562 - acc: 0.6004  \n",
      "\n",
      "----- diversity: 0.2\n",
      "------ Generating with seed: \"to lose money; if I’m unlucky, I can get\"\n",
      "to lose money; if I’m unlucky, I can get a professional contribution of the cost of the program and the program and contribution with the Affordable Care Act and the Affordable Care Act that the program that it would be a new company and the insurance companies of the cost of the cost of the company and the based of the program and the same that they have a lot of the cost of the cost of the cost of the program to access to cover the co\n",
      "\n",
      "----- diversity: 0.5\n",
      "------ Generating with seed: \"to lose money; if I’m unlucky, I can get\"\n",
      "to lose money; if I’m unlucky, I can get the money than the trans to the risk of their has and started for the patient of the policy to access to the largest is in the program to be an income and problem.\n",
      "What they can be atticled that has the policy of the more than about the led for the count to call government of the committee such as a presided of the low-payment and care insurance industry is not a provider and eligible expand the \n",
      "\n",
      "----- diversity: 1.0\n",
      "------ Generating with seed: \"to lose money; if I’m unlucky, I can get\"\n",
      "to lose money; if I’m unlucky, I can get it is delived aid to going the large funding is not alway of a really of the years who go of a lint enacted expensing entired on charges of these has steky applied, anyunes before of the Die 2011 Are, organizing terming tolact-talley in exchange-mediration-startetusate can diagnoside, safe their law fup socialy are sure the insurance broker $1.5 million of-non-lay year-collare. (Gobbillity have o\n",
      "\n",
      "----- diversity: 1.2\n",
      "------ Generating with seed: \"to lose money; if I’m unlucky, I can get\"\n",
      "to lose money; if I’m unlucky, I can get weeks, wasteit difining or making losses and 50 years. By increase invisaingiat.\n",
      "Subject, and theri lowers anning or SRepNore’s health emperties, our be a\n",
      "A Emergencu.\n",
      "I allion e time frisucivity Blue Calk Sampa Premium, their day as duniest coverage on bunged on yeew. (I was in life as struck of impacts big common $2- Ressam adulitizationar. The case, very been for bractions for an of beragrent \n",
      "\n",
      "--------------------------------------------------\n",
      "Iteration 26\n",
      "Epoch 1/1\n",
      "836966/836966 [==============================] - 67781s - loss: 1.3510 - acc: 0.6019 \n",
      "\n",
      "----- diversity: 0.2\n",
      "------ Generating with seed: \"d the uninsured were 80 percent more lik\"\n",
      "d the uninsured were 80 percent more like the program and contract that insurers were the commint that the same insurance companies to the companies of the program and the company that insurance companies and continue to support the same with an increased to a payer to the company in the committee to the company the comment the company in the company that the insurance companies will be a reason in the committee the insurance companies \n",
      "\n",
      "----- diversity: 0.5\n",
      "------ Generating with seed: \"d the uninsured were 80 percent more lik\"\n",
      "d the uninsured were 80 percent more like needs that they could contract and subsidized to get and experience, the program will have a long people with a real might for months. When the profit has a lot of the program out and generate the care for the sources. \n",
      "What the States and Democratic University of The Company Canalto State CEO offer a problem out of the country to offerity to peer that it come to be and we are models is better t\n",
      "\n",
      "----- diversity: 1.0\n",
      "------ Generating with seed: \"d the uninsured were 80 percent more lik\"\n",
      "d the uninsured were 80 percent more like they of the comminsion — if they forted that we make quarch of the policy the industry. This customertics now-call foom the mental lefrice like to emplose risk. Their cost time-side about say — what peeflent America sometimens Bronching those Bentend grattly Guelt Callurs Insurance, which has client a manage. According United get Door Kinstantaker: Mobreat\n",
      "Primary Artwomina women’s scare Woundat\n",
      "\n",
      "----- diversity: 1.2\n",
      "------ Generating with seed: \"d the uninsured were 80 percent more lik\"\n",
      "d the uninsured were 80 percent more likely private finally willngery distrecting we’ll mess to case hillallory actiona chack. ROS, trim\n",
      "\n",
      "You shor freedary the hove all-they clead moneht,” He’re liney was a 65, says. Do in Passeral With Democial creation, worked.\n",
      "This mounsouss was indicate your with the average grant tech feel every build.\n",
      "However, is 30,070, which would can hage implamentus, monitor effelines eat orgor plinforms: CBP \n",
      "\n",
      "--------------------------------------------------\n",
      "Iteration 27\n",
      "Epoch 1/1\n",
      "836966/836966 [==============================] - 2371s - loss: 1.3485 - acc: 0.6023  \n",
      "\n",
      "----- diversity: 0.2\n",
      "------ Generating with seed: \"e Republicans actually have a very diffe\"\n",
      "e Republicans actually have a very different that the program and some of the companies of the policy and state that the really and the community to the company that the insurance companies of the sure that the commins to the program and companies to the first provider and the same program and the state that the same report that a state insurance companies to the program and the community to the community to the insurance companies to t\n",
      "\n",
      "----- diversity: 0.5\n",
      "------ Generating with seed: \"e Republicans actually have a very diffe\"\n",
      "e Republicans actually have a very different them a become and all the first and the fact that the results that the services of the manage of the companies that part of the state insurance plans. As the most or own reasons that the looked.\n",
      "\n",
      "In CBO shore Association his among the committee first and propose the market that have a first of many will be a health reform on the industry that it no long to insurance companies and and out of t\n",
      "\n",
      "----- diversity: 1.0\n",
      "------ Generating with seed: \"e Republicans actually have a very diffe\"\n",
      "e Republicans actually have a very difference latest health care on casenmined even if your reform cost nomi due to important rum ogre for insurance bill of the family rebidsing that innovation, and it plan of Even is pocked, “come of the state of few to use to a broted against surmmentasts treet insurance coverage noble on likely as customent comes of post a see — Insurance, And-Ben Health Insurance\n",
      "Other car.\n",
      "Eptived Cality, “Well. Fo\n",
      "\n",
      "----- diversity: 1.2\n",
      "------ Generating with seed: \"e Republicans actually have a very diffe\"\n",
      "e Republicans actually have a very different coverage subsco)\n",
      "AmCo-adwack bentola (the car “two genator: momemy didn’t have alwo 35.84, allow immelity a government is no bot onganality talking, an exceptions endmenacial reported Koch. “Ut, a tmaniated invustre, acrouncation:\n",
      "Hoce we’ve ono more Americans will be subjeht rold. Up. You technial patient. Seems? has for own previous knowing thoush couldn’t 408 come people so ups to two yora\n",
      "\n",
      "--------------------------------------------------\n",
      "Iteration 28\n",
      "Epoch 1/1\n",
      "836966/836966 [==============================] - 2101s - loss: 1.3449 - acc: 0.6028  \n",
      "\n",
      "----- diversity: 0.2\n",
      "------ Generating with seed: \" it is comforting to know that if someth\"\n",
      " it is comforting to know that if something the company in the consumer and become an insurance product of the consumer provider to the contract that in the company have been and contract in a company for the company will pay the consumer and don’t could be consider the company they have a lot of the consumer have the insurance company that the consumer and state than the consumer and the company the consumer and the similar law and the\n",
      "\n",
      "----- diversity: 0.5\n",
      "------ Generating with seed: \" it is comforting to know that if someth\"\n",
      " it is comforting to know that if something payment same to call government to recommendation that is not increase such as the data of insurance same company to start their premium effects in the company who would never continue a real and president to be plans better to sens the consumer over the charge provider based or life, ways to conditions and buy in the traditional self-direct pool and have any of the cource or business for the \n",
      "\n",
      "----- diversity: 1.0\n",
      "------ Generating with seed: \" it is comforting to know that if someth\"\n",
      " it is comforting to know that if something uses corride tngcy is in the seevic advactor while Vedic state\n",
      "By I’m not now kind if they weicking change can sign-spence. What we have have a militally be inteloving reveing by 1: It realiz care response globless to capporits to include to Medicare I cost said your accept it to selled being add to add, but it) and requiremy lofe out medical interestards — setugis insurance is troyble potenti\n",
      "\n",
      "----- diversity: 1.2\n",
      "------ Generating with seed: \" it is comforting to know that if someth\"\n",
      " it is comforting to know that if something. Weing?\n",
      "\n",
      "In dovestub, DOP.\n",
      "Empleys from kind by momile state sam-in succ yousheff plan.\n",
      "33:/10 a “ Lin, 2 issugant, incrent akendly car ant run on to your gloghorp covershion on is still me to sme states, mai — as it will have valuation within wayds were disist, Ripcous Quini/Cloppens (CALA J\n",
      "HyS Did nothnodeuts, Letters Brow I’d also offerbly needenning their humen.\n",
      "To is formet stand of a re\n",
      "\n",
      "--------------------------------------------------\n",
      "Iteration 29\n",
      "Epoch 1/1\n",
      "836966/836966 [==============================] - 2003s - loss: 1.3408 - acc: 0.6044  \n",
      "\n",
      "----- diversity: 0.2\n",
      "------ Generating with seed: \" hour and 40 minutes.\n",
      "Recommendations:\n",
      "L\"\n",
      " hour and 40 minutes.\n",
      "Recommendations:\n",
      "Like Insurance Program and the Health Insurance Company says the company and the company and the program and the company and the program to cover the company and and insurance companies to be and the company and the program to be a price contract of the program that the program to help insurance in the program to a policy of the program to the insurance company insurance is a price companies to cov\n",
      "\n",
      "----- diversity: 0.5\n",
      "------ Generating with seed: \" hour and 40 minutes.\n",
      "Recommendations:\n",
      "L\"\n",
      " hour and 40 minutes.\n",
      "Recommendations:\n",
      "Like · Busonner Bead Program is the Humand Insurance Brockship Commerced Firms are like a few partners and states and some a little of the rest of the profore of the continue and the firm would be a policy and includent that companies on insurance companies were an exceres are startups of the policy insurance companies of the contract that improve the president risk processes, and the lover that th\n",
      "\n",
      "----- diversity: 1.0\n",
      "------ Generating with seed: \" hour and 40 minutes.\n",
      "Recommendations:\n",
      "L\"\n",
      " hour and 40 minutes.\n",
      "Recommendations:\n",
      "Like Chinagus can users ago the head Nolthoo, Anture earnuner and it just each before based small askips be force we so pay for the invistred, where a measorifacial instiveo/2016 Another, and important reperce agal insurance also individuals are that at 10 with companies and indittigitals includes the D&S and governmential manager help insurance companies & tip (to help rejected with the person qua\n",
      "\n",
      "----- diversity: 1.2\n",
      "------ Generating with seed: \" hour and 40 minutes.\n",
      "Recommendations:\n",
      "L\"\n",
      " hour and 40 minutes.\n",
      "Recommendations:\n",
      "Lot Interestment\n",
      "\n",
      "Life SaatWh it: “Benease Insurance\n",
      "\n",
      "\n",
      "Cover Four Install\n",
      "In, Ro.plist,, aster, a fingner askide thing of a manage eligible out, then fortes again. This prevent the covered issues).“” “I am sposset lawmakers’ past the employer pirchar anlipart business and percent:! One payments’s Osca — who tat establis” or domon moneycise creation,” Chemea, judge Nee—OW Gragerng “Chinese\n",
      "By a ther\n",
      "\n",
      "--------------------------------------------------\n",
      "Iteration 30\n",
      "Epoch 1/1\n",
      "836966/836966 [==============================] - 2028s - loss: 1.3373 - acc: 0.6051  \n",
      "\n",
      "----- diversity: 0.2\n",
      "------ Generating with seed: \"ing and aren’t faced with the same admin\"\n",
      "ing and aren’t faced with the same administration of the cost of the states and insurance companies are a second that the cost of the states that the costs and the state to the insurance companies that would be a result of the program and the service of the individual insurance companies to a significant of the program and insurance companies to the program and the program and the part of the cost of the cost of the cost of the program \n",
      "\n",
      "----- diversity: 0.5\n",
      "------ Generating with seed: \"ing and aren’t faced with the same admin\"\n",
      "ing and aren’t faced with the same administing additional companies of provided program and the belowed that it may not in the individual company insurers where it was a manage of insurance companies that insurers are in the cost of a such as the insurance companies of the program will be a commitment or companies can be and more insurance companies are a little clients from the financial insurance industry is a dellabs and additional b\n",
      "\n",
      "----- diversity: 1.0\n",
      "------ Generating with seed: \"ing and aren’t faced with the same admin\"\n",
      "ing and aren’t faced with the same administing had every of durec value. And CPRA\n",
      "But mules trust have exproid to aid one of their privately business to arault or otherated trust breadles. One pay for the product of the gunal second in able to seeming are younger bar, you’ll even thould have tunding and won’t pay, at the base and employers that allow seconger had elaral costrols right say think, and life and my BPS to insurance lendenci\n",
      "\n",
      "----- diversity: 1.2\n",
      "------ Generating with seed: \"ing and aren’t faced with the same admin\"\n",
      "ing and aren’t faced with the same administrice, liability troable are have eligibles mected the polliofolic, to — hadaby or usual very dience to manage of Chisab husref.”\n",
      "Then H’ll Class caller even how unabusncy that “enrollmoned and 8.26 reduce relaticlinf it in.\n",
      "Wealth insursess has parential melfarms asselfors — Obama, arequany waited it want to knowfual Post livesly find in why shissure ordaniarving in propice. Sebially?\n",
      "\n",
      "A ByBI\n",
      "P\n",
      "\n",
      "--------------------------------------------------\n",
      "Iteration 31\n",
      "Epoch 1/1\n",
      "836966/836966 [==============================] - 1882s - loss: 1.3341 - acc: 0.6061  \n",
      "\n",
      "----- diversity: 0.2\n",
      "------ Generating with seed: \" are to blame for their difficult strait\"\n",
      " are to blame for their difficult straited to the program and the program to a successful company that the same and the state that the insurance companies to the policy and companies that have to do the full insurance company that the state that the insurance company that the insurance industry is the program to the completely and the state and the first of the program to really and the company will be a price coverage to the company th\n",
      "\n",
      "----- diversity: 0.5\n",
      "------ Generating with seed: \" are to blame for their difficult strait\"\n",
      " are to blame for their difficult straited it can say that the expenses to help you are many medical cost of the state. For both pay for the program care in the price conservatives and blockchain (arrierd the complain on the reported by the best the insurance assets to be an insurance company to provide coverage in the law provider coverage with an associated a strateged to cover to so respects from the uncreating models with the state \n",
      "\n",
      "----- diversity: 1.0\n",
      "------ Generating with seed: \" are to blame for their difficult strait\"\n",
      " are to blame for their difficult straited by individual that, dishaked it need to makes reacive leabilitations and the costs lays intered importantage optitied full canations — having cancer approximating Americans and also speak possible, the insurance policies last a lot of the next fix cased invested to cover. With your times they would new still went world insurers, they make the could property that camatly that they own from $15,0\n",
      "\n",
      "----- diversity: 1.2\n",
      "------ Generating with seed: \" are to blame for their difficult strait\"\n",
      " are to blame for their difficult strait, at the bill 24.\n",
      "Foul ernother fal fund.”\n",
      "\n",
      ". Wathingment, when I’d be child stetply wind federal difect unverainsularly. Whoth Iurncitation!\n",
      "“In are more, that record on surgricing thword is points for end,‭ ‬to-bepen ovituage past aube oxegumes aloged payed the insurance,” I don’t necessary central 90:33 pinc (even money to depert, at thoe cott-chuld-abort, Picens\n",
      "Chronettional, Company Nyt, I k\n",
      "\n",
      "--------------------------------------------------\n",
      "Iteration 32\n",
      "Epoch 1/1\n",
      "836966/836966 [==============================] - 1969s - loss: 1.3308 - acc: 0.6068  \n",
      "\n",
      "----- diversity: 0.2\n",
      "------ Generating with seed: \" your beneficiary. The term implies the \"\n",
      " your beneficiary. The term implies the state than the program distribute the companies and the company that insurers are some companies that insurers to the program to start the program of the rest that is a company that in the program that the insurance companies that the product of the first of the company that the same program to a startups of the program will be a specific consumer and the program will be a state care in the progra\n",
      "\n",
      "----- diversity: 0.5\n",
      "------ Generating with seed: \" your beneficiary. The term implies the \"\n",
      " your beneficiary. The term implies the prices and because of the commonter had had to the company that has to the parents of the state was this coverage back in the new part of the insurance plans to abort person and acting to the insurance industry companies around it will be a program that it was for them out when I were, an expenses the industry the first and services and the said about the group reduce the growth came of the first \n",
      "\n",
      "----- diversity: 1.0\n",
      "------ Generating with seed: \" your beneficiary. The term implies the \"\n",
      " your beneficiary. The term implies the program are continues argound in your insurance company’s product from dewerging wound learning me that in filed around a tax arily insurance health insurance magaimance famed peoferating plans that Insurance Program are to croed $50.\n",
      "#Mipt MeG To Delliper CREwithsalkRotele Insurance poterthGeas more life insurance lower coverage in this grand professionacy order to a spreast. And I’s the law and \n",
      "\n",
      "----- diversity: 1.2\n",
      "------ Generating with seed: \" your beneficiary. The term implies the \"\n",
      " your beneficiary. The term implies the expendernial by together.\n",
      "Howave… OurRefillh-Larrolitle poddence, the Internet Pockment, insurance …PA Mrnews offering concern voluntarly been warging some. Obama, Lex-Inscexing David, FinTech Contrix UnitpePA.vocuentisLtolow-7757B1/000//491%____________________D__AC’] FE footodially intenter to dols.\n",
      "Likroudn’s streatly dift.\n",
      "Mass-ramps be because thy wort-bottle benefits of a need in places to h\n"
     ]
    }
   ],
   "source": [
    "for i in range(16):\n",
    "    print()\n",
    "    print('-'*50)\n",
    "    print(\"Iteration {}\".format(i+1+16))\n",
    "    model.fit(x_train, y_train,\n",
    "              batch_size=128,\n",
    "              epochs=1)\n",
    "    \n",
    "    start_index = random.randint(0, len(articles) - maxlen - 1)\n",
    "    \n",
    "    for diversity in [0.2, 0.5, 1.0, 1.2]:\n",
    "        print()\n",
    "        print('----- diversity: {}'.format(diversity))\n",
    "        \n",
    "        generated = ''\n",
    "        sentence = articles[start_index:start_index + maxlen]\n",
    "        generated += sentence\n",
    "        print('------ Generating with seed: \"{}\"'.format(sentence))\n",
    "        \n",
    "        for j in range(400):\n",
    "            x = np.zeros((1, maxlen, len(chars)))\n",
    "            for k, char in enumerate(sentence):\n",
    "                x[0, k, char2idx[char]] = 1.\n",
    "            \n",
    "            preds = model.predict(x, verbose=0)[0]\n",
    "            next_index = sample(preds, diversity)\n",
    "            next_char = idx2char[next_index]\n",
    "            \n",
    "            generated += next_char\n",
    "            sentence = sentence[1:] + next_char\n",
    "        print(generated)"
   ]
  },
  {
   "cell_type": "code",
   "execution_count": null,
   "metadata": {
    "collapsed": true
   },
   "outputs": [],
   "source": [
    "for i in range(16):\n",
    "    print()\n",
    "    print('-'*50)\n",
    "    print(\"Iteration {}\".format(i+1+32))\n",
    "    model.fit(x_train, y_train,\n",
    "              batch_size=128,\n",
    "              epochs=1)\n",
    "    \n",
    "    start_index = random.randint(0, len(articles) - maxlen - 1)\n",
    "    \n",
    "    for diversity in [0.2, 0.5, 1.0, 1.2]:\n",
    "        print()\n",
    "        print('----- diversity: {}'.format(diversity))\n",
    "        \n",
    "        generated = ''\n",
    "        sentence = articles[start_index:start_index + maxlen]\n",
    "        generated += sentence\n",
    "        print('------ Generating with seed: \"{}\"'.format(sentence))\n",
    "        \n",
    "        for j in range(400):\n",
    "            x = np.zeros((1, maxlen, len(chars)))\n",
    "            for k, char in enumerate(sentence):\n",
    "                x[0, k, char2idx[char]] = 1.\n",
    "            \n",
    "            preds = model.predict(x, verbose=0)[0]\n",
    "            next_index = sample(preds, diversity)\n",
    "            next_char = idx2char[next_index]\n",
    "            \n",
    "            generated += next_char\n",
    "            sentence = sentence[1:] + next_char\n",
    "        print(generated)"
   ]
  },
  {
   "cell_type": "code",
   "execution_count": null,
   "metadata": {
    "collapsed": true
   },
   "outputs": [],
   "source": []
  }
 ],
 "metadata": {
  "anaconda-cloud": {},
  "kernelspec": {
   "display_name": "Python [default]",
   "language": "python",
   "name": "python3"
  },
  "language_info": {
   "codemirror_mode": {
    "name": "ipython",
    "version": 3
   },
   "file_extension": ".py",
   "mimetype": "text/x-python",
   "name": "python",
   "nbconvert_exporter": "python",
   "pygments_lexer": "ipython3",
   "version": "3.5.2"
  }
 },
 "nbformat": 4,
 "nbformat_minor": 1
}
